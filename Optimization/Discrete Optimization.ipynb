{
 "cells": [
  {
   "cell_type": "markdown",
   "id": "e79fb606-88ff-4687-8400-5f36a3268c13",
   "metadata": {},
   "source": [
    "# Discrete Optimization\n"
   ]
  },
  {
   "cell_type": "markdown",
   "id": "d1d49f89-3d97-492e-a93f-28c1edc9768f",
   "metadata": {},
   "source": [
    "## Optimization Problems\n",
    "- Filling a knapsack is an optimization problem\n",
    "- Optimization applications are among the most difficult problems in computer science.\n",
    "    - `NP-Completeness`\n",
    "- Yet, they are everywhere\n",
    "    - supply chains, sport scheduling, logistics, electrical power system, manufacturing, etc."
   ]
  },
  {
   "cell_type": "markdown",
   "id": "0d1f132e-07fd-48f4-9de8-e3ef9e719c60",
   "metadata": {},
   "source": [
    "## NP-Completeness\n",
    "- Complexity class for decision problems\n",
    "    - e.g., can I fill a knapsack for a value above K?\n",
    "- Informally, NP-Completeness problems have two properties\n",
    "    - We can check a solution quickly, i.e., in polynomial time\n",
    "    - If we can solve one NP-Complete quickly, we can solve them all.\n",
    "- Widely believed to take exponential time in the worst case"
   ]
  },
  {
   "cell_type": "markdown",
   "id": "f9589e6e-47b3-4268-aedc-79f62201eab7",
   "metadata": {},
   "source": [
    "> One technique is to lower the standards, it pushes time complexity graph to include more data points in solvable time complexity and lets us solve more practical problems with not best, but high-quality results."
   ]
  },
  {
   "cell_type": "markdown",
   "id": "cbf6f45e-29ee-4710-ad51-3715102b7cd0",
   "metadata": {},
   "source": [
    "## Greedy Algorithms\n",
    "1. Take the objects with most values first.\n",
    "    - Valuable items are best, start with the most valuable items.\n",
    "    - Problem: Most valuable item may wiegh quite heavy causing less value on overall.\n",
    "2. Take the objects with the least weight first.\n",
    "    - More items is best, start with small ones and take as many as you can.\n",
    "    - Problem: Small items may be worthless causing diminished value even with a large number of objects.\n",
    "3. Take the objects with efficient density of value per weight first.\n",
    "    - Value density\n",
    "    - Problem: Weight mismatch caused by earlier selection can lead to discarding of a good bargain later. (E.g., For 10w: 3w-7v, 5w-10v, 2w-1v, 5w-10v)\n",
    "\n",
    "For one problem, there are many possible greedy algorithms.\n",
    "- some will do better than others\n",
    "- depends on the input\n",
    "\n",
    "Advantages\n",
    "- quick to design and implement\n",
    "- can be very fast\n",
    "\n",
    "Problemms\n",
    "- no quality guarantees (in general)\n",
    "- quality can vary widely on the input\n",
    "- problem feasibility needs to be \"easy\""
   ]
  },
  {
   "cell_type": "markdown",
   "id": "df498a8a-ba72-4344-ad84-ff77dc25288c",
   "metadata": {},
   "source": [
    "> We can always start with greedy to get a base line.\n",
    "\n",
    "Going beyond greedy\n",
    "- Constraint Programming\n",
    "- Local Search\n",
    "- Mixed Integer Programming\n",
    "\n",
    "Ways to \n",
    "- reliably find feasible solutions\n",
    "- reliably build high-quality solutions\n",
    "    - robust to different inputs\n",
    "- ideally, proving those solutions are the best"
   ]
  },
  {
   "cell_type": "markdown",
   "id": "1af9b2f2-7954-4174-8c7b-0815f3ab2c7c",
   "metadata": {},
   "source": [
    "> Always find a description of the problems first, that everybody can agree upon. This is the first step. What is it that we are trying to solve?"
   ]
  },
  {
   "cell_type": "markdown",
   "id": "e0951d5e-0f4f-4201-86c5-427820de5b74",
   "metadata": {},
   "source": [
    "## Modeling\n"
   ]
  },
  {
   "cell_type": "markdown",
   "id": "3591d6c6-12f0-46fc-8243-e321266ec177",
   "metadata": {},
   "source": [
    "### The (1-Dimensional) Knapsack Problem\n",
    "Given a set of items $I$, each item $i$ $\\in$ $I$ characterized by\n",
    "- its weight $w_{i}$\n",
    "- its value $v_{i}$\n",
    "  \n",
    "and  \n",
    "- a capacity $K$ for knapsack\n",
    "\n",
    "Find the subset of items in $I$\n",
    "- that has maximum value\n",
    "- does not exceed the capacity $K$ of the knapsack"
   ]
  },
  {
   "cell_type": "markdown",
   "id": "493fd2cd-3d78-4d53-b290-938983603716",
   "metadata": {},
   "source": [
    "### Modelling an optimization problem\n",
    "**How to model an optimization problem**  \n",
    "Choose some decision variables\n",
    "- they typically encode the result we are interested in\n",
    "\n",
    "Express the problem constraints in terms of these variables\n",
    "- they specify what the solutions to the problem are\n",
    "\n",
    "Express the objective function\n",
    "- the objective function specifies the quality of each solution\n",
    "\n",
    "**The result is an optimization model**  \n",
    "It is a declarative formulation\n",
    "- specify the \"what\", not the \"how\"\n",
    "\n",
    "There may be many ways to model an optimization problem"
   ]
  },
  {
   "cell_type": "markdown",
   "id": "46eb66e2-5770-470a-baa9-af55d2d88b0e",
   "metadata": {},
   "source": [
    "### A Knapsack Model\n",
    "**Decision Variables**  \n",
    "$x_{i}$ denotes whether item $i$ is selected in the solution\n",
    "- $x_{i} = 1$ means the item is selected\n",
    "- $x_{i} = 0$ means the item is not selected\n",
    "\n",
    "**Problem constraint**  \n",
    "The selected item cannot exceed the capacity of the knapsack\n",
    "$$\\sum_{i \\in I} w_{i}x_{i} \\leq K$$\n",
    "\n",
    "**Objective function**  \n",
    "Captures the total value of selected items\n",
    "$$\\sum_{i \\in I} v_{i}x_{i}$$\n",
    "\n",
    "> **Putting it all together**  \n",
    "maximize  $$\\sum_{i \\in I} w_{i}x_{i} \\leq K$$\n",
    "subject to  $$\\sum_{i \\in I} v_{i}x_{i}$$  \n",
    "$$ x_{i} \\in \\{0, 1\\} \\qquad (i \\in I) $$"
   ]
  },
  {
   "cell_type": "markdown",
   "id": "ec16d4a8-4bbe-49fb-9cad-05d43e904716",
   "metadata": {},
   "source": [
    "#### Exponential Growth\n",
    "**Possible configurations**\n",
    "- (0,0,0,...,0), (0,0,0,...,1), ..., (1,1,1,...,1)\n",
    "\n",
    "**Not all of them are feasible**\n",
    "- They cannot exceed of the capacity of knapsack\n",
    "\n",
    "**How many are they**\n",
    "- $2^{|x|}$\n",
    "\n",
    "**How much time to explore them all**\n",
    "- 1 millisecond to test a configuration\n",
    "- if $|x| = 50$, it will take 1,285,273,866 centuries"
   ]
  },
  {
   "cell_type": "code",
   "execution_count": null,
   "id": "b35a87ab-dc00-42cc-849a-e9cd2d1e1ff8",
   "metadata": {},
   "outputs": [],
   "source": []
  },
  {
   "cell_type": "code",
   "execution_count": null,
   "id": "295261bd-0705-4177-9dcc-ce0310cd559d",
   "metadata": {},
   "outputs": [],
   "source": []
  }
 ],
 "metadata": {
  "kernelspec": {
   "display_name": "Python 3 (ipykernel)",
   "language": "python",
   "name": "python3"
  },
  "language_info": {
   "codemirror_mode": {
    "name": "ipython",
    "version": 3
   },
   "file_extension": ".py",
   "mimetype": "text/x-python",
   "name": "python",
   "nbconvert_exporter": "python",
   "pygments_lexer": "ipython3",
   "version": "3.11.0"
  }
 },
 "nbformat": 4,
 "nbformat_minor": 5
}
