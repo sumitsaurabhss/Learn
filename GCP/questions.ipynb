{
 "cells": [
  {
   "cell_type": "markdown",
   "id": "e7e2060a",
   "metadata": {},
   "source": [
    "Q: If I use new pythonic artifact syntax for passing an artifact to other task, will the artifact be saved in ML Metadata?"
   ]
  },
  {
   "cell_type": "markdown",
   "id": "0869b363",
   "metadata": {},
   "source": [
    "Q: How are parameters passed between tasks? Is it stored in ML Metadata and retrieved from there? Or, saved in a local temporary storage? Also if there is local temporary storage, how is it handled and do we have to manually clean it up or it automatically gets cleaned up after the execution of a pipeline run?"
   ]
  },
  {
   "cell_type": "markdown",
   "id": "736b3c98",
   "metadata": {},
   "source": [
    "Q: How to pass json strings as parameters and then use them in dsl.ParallelFor?"
   ]
  },
  {
   "cell_type": "markdown",
   "id": "283a0379",
   "metadata": {},
   "source": [
    "Q: How to use model already in Model Registry in a pipeline?"
   ]
  }
 ],
 "metadata": {
  "language_info": {
   "name": "python"
  }
 },
 "nbformat": 4,
 "nbformat_minor": 5
}
