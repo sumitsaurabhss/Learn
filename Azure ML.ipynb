{
 "cells": [
  {
   "cell_type": "markdown",
   "id": "ca90ef08-dbee-4f23-b96b-5dc1b11fe447",
   "metadata": {},
   "source": [
    "# Azure ML"
   ]
  },
  {
   "cell_type": "markdown",
   "id": "b5543f15-6485-4a68-b260-db03dd5c9866",
   "metadata": {},
   "source": [
    "## Explainer\n",
    "help in interpreting the model. Azure Machine Learning SDK can be used to create explainers for models, even if they were not trained using an Azure Machine Learning Experiment.\n",
    "\n",
    "- MimicExplainer: creates a global surrogate model that approximates a trained model and can be used to generate explanations.\n",
    "- TabularExplainer: acts as a wrapper around SHAP (SHapely Additive exPlainations) explainer algorithms.\n",
    "- PFIExplainer: a permutation feature importance explainer that analyzes feature importance by shuffling feature values and measuring the impact on prediction performance"
   ]
  },
  {
   "cell_type": "code",
   "execution_count": null,
   "id": "32fd57fb-e1c0-481b-b5fe-73403a8b5090",
   "metadata": {},
   "outputs": [],
   "source": []
  }
 ],
 "metadata": {
  "kernelspec": {
   "display_name": "Python 3 (ipykernel)",
   "language": "python",
   "name": "python3"
  },
  "language_info": {
   "codemirror_mode": {
    "name": "ipython",
    "version": 3
   },
   "file_extension": ".py",
   "mimetype": "text/x-python",
   "name": "python",
   "nbconvert_exporter": "python",
   "pygments_lexer": "ipython3",
   "version": "3.11.0"
  }
 },
 "nbformat": 4,
 "nbformat_minor": 5
}
