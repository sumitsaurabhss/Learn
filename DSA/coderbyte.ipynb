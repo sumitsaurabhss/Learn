{
 "cells": [
  {
   "cell_type": "code",
   "execution_count": 13,
   "id": "17a4371d-6466-44d8-a34c-ec329f93a1fc",
   "metadata": {},
   "outputs": [
    {
     "name": "stdin",
     "output_type": "stream",
     "text": [
      " abcabc\n"
     ]
    },
    {
     "name": "stdout",
     "output_type": "stream",
     "text": [
      "2\n"
     ]
    }
   ],
   "source": [
    "def StringChallenge(strParam):\n",
    "    n = len(strParam)\n",
    "    if n == 0:\n",
    "        return \"\"\n",
    "    lst = ['a', 'b', 'c']\n",
    "    res = [char for char in strParam]\n",
    "    i = 1\n",
    "    while i < len(res):\n",
    "        if res[i] == res[i-1]:\n",
    "            i += 1\n",
    "        else:\n",
    "            res[i-1] = next(char for char in lst if char != res[i-1] and char != res[i])\n",
    "            del res[i]\n",
    "            if i > 1:\n",
    "                i -= 1\n",
    "    s = ''.join(res)\n",
    "    return len(s)\n",
    "    \n",
    "print(StringChallenge(input()))"
   ]
  },
  {
   "cell_type": "code",
   "execution_count": 21,
   "id": "07616fba-7ccb-484c-847f-35d47e287940",
   "metadata": {},
   "outputs": [
    {
     "name": "stdin",
     "output_type": "stream",
     "text": [
      " hellosanasmith\n"
     ]
    },
    {
     "name": "stdout",
     "output_type": "stream",
     "text": [
      "san_sd8_mrh_jqa_c\n"
     ]
    }
   ],
   "source": [
    "def SearchingChallenge(strParam):\n",
    "    n = len(strParam)\n",
    "    if n == 0:\n",
    "        return 'd8w_rhb_qa9_'\n",
    "\n",
    "    dp = [[False] * n for _ in range(n)]\n",
    "    start = 0\n",
    "    max_length = 1\n",
    "\n",
    "    for i in range(n):\n",
    "        dp[i][i] = True\n",
    "\n",
    "    for length in range(2, n + 1):\n",
    "        for i in range(n - length + 1):\n",
    "            j = i + length - 1\n",
    "            if strParam[i] == strParam[j] and dp[i + 1][j - 1]:\n",
    "                dp[i][j] = True\n",
    "                start = i\n",
    "                max_length = length\n",
    "\n",
    "    sub = strParam[start:start + max_length]\n",
    "    if len(sub) < 3:\n",
    "        sub = 'none'\n",
    "    token = 'd8wmrhbjqa9c'\n",
    "    concat = sub + token\n",
    "    resp = ''\n",
    "    for i in range(len(concat)):\n",
    "        if (i+1) % 4 == 0:\n",
    "            resp += '_'\n",
    "        else:\n",
    "            resp += concat[i]\n",
    "            \n",
    "    return resp\n",
    "\n",
    "print(SearchingChallenge(input()))"
   ]
  }
 ],
 "metadata": {
  "kernelspec": {
   "display_name": "Python 3 (ipykernel)",
   "language": "python",
   "name": "python3"
  },
  "language_info": {
   "codemirror_mode": {
    "name": "ipython",
    "version": 3
   },
   "file_extension": ".py",
   "mimetype": "text/x-python",
   "name": "python",
   "nbconvert_exporter": "python",
   "pygments_lexer": "ipython3",
   "version": "3.11.0"
  }
 },
 "nbformat": 4,
 "nbformat_minor": 5
}
