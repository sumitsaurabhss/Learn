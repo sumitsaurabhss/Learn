{
 "cells": [
  {
   "cell_type": "markdown",
   "id": "72cace9f",
   "metadata": {},
   "source": [
    "#### Find all permutations of the following set of elements: {1,2,3}"
   ]
  },
  {
   "cell_type": "markdown",
   "id": "ccdc0b88",
   "metadata": {},
   "source": [
    "#### Generate a string of n balanced parentheses."
   ]
  }
 ],
 "metadata": {
  "language_info": {
   "name": "python"
  }
 },
 "nbformat": 4,
 "nbformat_minor": 5
}
