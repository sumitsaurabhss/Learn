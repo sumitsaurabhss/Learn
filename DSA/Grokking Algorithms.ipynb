{
 "cells": [
  {
   "cell_type": "markdown",
   "id": "c3804bc4-c7b6-4b3b-aa31-625183e34136",
   "metadata": {},
   "source": [
    "# Chapter 1 | Introduction to Algorithms"
   ]
  },
  {
   "cell_type": "markdown",
   "id": "66bc39d4-e45d-4ac5-8cd4-669a9f33c390",
   "metadata": {},
   "source": [
    "## Binary Search"
   ]
  },
  {
   "cell_type": "code",
   "execution_count": 8,
   "id": "3fff4812-41da-4c1c-9092-a23b681b4b28",
   "metadata": {},
   "outputs": [],
   "source": [
    "def binary_search(arr, item):\n",
    "    low = 0\n",
    "    high = len(arr) - 1           # low and high keep track of which part of the list/array search will occur.\n",
    "    \n",
    "    while low <= high:            # while you haven't narrowed it down to one element\n",
    "        mid = (low + high) // 2                # mid is rounded down automatically if (low + high) isn't an even number.\n",
    "        guess = arr[mid]          # ...check the middle element\n",
    "        if guess == item:         # Found the item\n",
    "            return mid\n",
    "        elif guess > item:        # The guess was too high.\n",
    "            high = mid - 1\n",
    "        else:                     # The guess was too low.\n",
    "            low = mid + 1\n",
    "    return None               # The item doesn't exist."
   ]
  },
  {
   "cell_type": "code",
   "execution_count": 9,
   "id": "6162d67f-01d8-4bf3-b601-0472920eb086",
   "metadata": {},
   "outputs": [
    {
     "name": "stdout",
     "output_type": "stream",
     "text": [
      "1\n",
      "None\n"
     ]
    }
   ],
   "source": [
    "my_list = [1, 3, 5, 7, 9]\n",
    "print(binary_search(my_list, 3))\n",
    "print(binary_search(my_list, -1))"
   ]
  },
  {
   "cell_type": "markdown",
   "id": "dad2b29b-8b1c-4d27-9b40-2b5adffcb2e9",
   "metadata": {},
   "source": [
    "## Selection Sort"
   ]
  },
  {
   "cell_type": "code",
   "execution_count": null,
   "id": "5fca780c-0f6f-4bfe-a2b9-953760052b0e",
   "metadata": {},
   "outputs": [],
   "source": [
    "def find_smallest(arr):\n",
    "    smallest = arr[0]\n",
    "    smallest_index = 0\n",
    "    for i in range(1, len(arr)):\n",
    "        if arr[i] < smallest:\n",
    "            smallest = arr[i]\n",
    "            smallest_index = i\n",
    "\n"
   ]
  }
 ],
 "metadata": {
  "kernelspec": {
   "display_name": "Python 3 (ipykernel)",
   "language": "python",
   "name": "python3"
  },
  "language_info": {
   "codemirror_mode": {
    "name": "ipython",
    "version": 3
   },
   "file_extension": ".py",
   "mimetype": "text/x-python",
   "name": "python",
   "nbconvert_exporter": "python",
   "pygments_lexer": "ipython3",
   "version": "3.11.0"
  }
 },
 "nbformat": 4,
 "nbformat_minor": 5
}
