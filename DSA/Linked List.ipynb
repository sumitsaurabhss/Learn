{
 "cells": [
  {
   "cell_type": "code",
   "execution_count": 1,
   "id": "505fd0f3-01ce-4ed4-a09d-18bc1faba7d1",
   "metadata": {},
   "outputs": [],
   "source": [
    "# Template for linked list node class\n",
    "\n",
    "class LinkedListNode:\n",
    "    # __init__ will be used to make a LinkedListNode type object.\n",
    "    def __init__(self, data, next=None):\n",
    "        self.data = data\n",
    "        self.next = next"
   ]
  },
  {
   "cell_type": "code",
   "execution_count": 3,
   "id": "86621139-bb34-4263-bd0b-aa868b9026d0",
   "metadata": {},
   "outputs": [],
   "source": [
    "# from linked_list_node import LinkedListNode\n",
    "\n",
    "\n",
    "# Template for the linked list\n",
    "class LinkedList:\n",
    "    # __init__ will be used to make a LinkedList type object.\n",
    "    def __init__(self):\n",
    "        self.head = None\n",
    "\n",
    "    # insert_node_at_head method will insert a LinkedListNode at head\n",
    "    # of a linked list.\n",
    "    def insert_node_at_head(self, node):\n",
    "        if self.head:\n",
    "            node.next = self.head\n",
    "            self.head = node\n",
    "        else:\n",
    "            self.head = node\n",
    "\n",
    "    # create_linked_list method will create the linked list using the\n",
    "    # given integer array with the help of InsertAthead method.\n",
    "    def create_linked_list(self, lst):\n",
    "        for x in reversed(lst):\n",
    "            new_node = LinkedListNode(x)\n",
    "            self.insert_node_at_head(new_node)\n",
    "    \n",
    "    # __str__(self) method will display the elements of linked list.\n",
    "    def __str__(self):\n",
    "        result = \"\"\n",
    "        temp = self.head\n",
    "        while temp:\n",
    "            result += str(temp.data)\n",
    "            temp = temp.next\n",
    "            if temp:\n",
    "                result += \", \"\n",
    "        result += \"\"\n",
    "        return result"
   ]
  },
  {
   "cell_type": "code",
   "execution_count": 4,
   "id": "e3df9c3a-2df3-4ea7-933c-f4dcc3c14297",
   "metadata": {},
   "outputs": [],
   "source": [
    "# Template for printing the linked list with forward arrows\n",
    "\n",
    "def print_list_with_forward_arrow(linked_list_node):\n",
    "    temp = linked_list_node\n",
    "    while temp:\n",
    "        print(temp.data, end=\" \")  # print node value\n",
    "        \n",
    "        temp = temp.next\n",
    "        if temp:\n",
    "            print(\"→\", end=\" \")\n",
    "        else:\n",
    "            # if this is the last node, print null at the end\n",
    "            print(\"→ null\", end=\" \")"
   ]
  },
  {
   "cell_type": "code",
   "execution_count": 5,
   "id": "7ad614d7-ecea-4ad1-b927-40a4b7199db7",
   "metadata": {},
   "outputs": [
    {
     "name": "stdout",
     "output_type": "stream",
     "text": [
      "1 . Linked List:\t23 → 89 → 10 → 5 → 67 → 39 → 70 → 28 → null \n",
      "n =  4\n",
      "\n",
      "----------------------------------------------------------------------------------------------------\n",
      "2 . Linked List:\t34 → 53 → 6 → 95 → 38 → 28 → 17 → 63 → 16 → 76 → null \n",
      "n =  1\n",
      "\n",
      "----------------------------------------------------------------------------------------------------\n",
      "3 . Linked List:\t288 → 224 → 275 → 390 → 4 → 383 → 330 → 60 → 193 → null \n",
      "n =  6\n",
      "\n",
      "----------------------------------------------------------------------------------------------------\n",
      "4 . Linked List:\t1 → 2 → 3 → 4 → 5 → 6 → 7 → 8 → 9 → null \n",
      "n =  9\n",
      "\n",
      "----------------------------------------------------------------------------------------------------\n",
      "5 . Linked List:\t69 → 8 → 49 → 106 → 116 → 112 → 104 → 129 → 39 → 14 → 27 → 12 → null \n",
      "n =  11\n",
      "\n",
      "----------------------------------------------------------------------------------------------------\n"
     ]
    }
   ],
   "source": [
    "def main():\n",
    "    lists = [[23, 89, 10, 5, 67, 39, 70, 28], [34, 53, 6, 95, 38, 28, 17, 63, 16, 76], [288, 224, 275, 390, 4, 383, 330, 60, 193],\n",
    "    [1, 2, 3, 4, 5, 6, 7, 8, 9], [69, 8, 49, 106, 116, 112, 104, 129, 39, 14, 27, 12]]\n",
    "    n = [4, 1, 6, 9, 11]\n",
    "\n",
    "    for i in range(len(n)):\n",
    "        input_linked_list = LinkedList()\n",
    "        input_linked_list.create_linked_list(lists[i])\n",
    "        print(i+1, \". Linked List:\\t\", end='')\n",
    "        print_list_with_forward_arrow(input_linked_list.head)\n",
    "        print()\n",
    "        print(\"n = \", n[i])\n",
    "        print()\n",
    "        print(\"-\"*100)\n",
    "\n",
    "if __name__ == '__main__':\n",
    "    main()"
   ]
  }
 ],
 "metadata": {
  "kernelspec": {
   "display_name": "Python 3 (ipykernel)",
   "language": "python",
   "name": "python3"
  },
  "language_info": {
   "codemirror_mode": {
    "name": "ipython",
    "version": 3
   },
   "file_extension": ".py",
   "mimetype": "text/x-python",
   "name": "python",
   "nbconvert_exporter": "python",
   "pygments_lexer": "ipython3",
   "version": "3.11.0"
  }
 },
 "nbformat": 4,
 "nbformat_minor": 5
}
