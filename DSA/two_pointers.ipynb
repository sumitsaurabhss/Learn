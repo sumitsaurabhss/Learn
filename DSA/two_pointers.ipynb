{
 "cells": [
  {
   "cell_type": "markdown",
   "id": "6ac598a3-0d14-4f02-a4c9-3103b669bc68",
   "metadata": {},
   "source": [
    "# 2 Pointers\n",
    "\n",
    "## Condition\n",
    "__Linear data structure__: The input data can be traversed in a linear fashion, such as an array, linked list, or string.\n",
    "\n",
    "**Process pairs**: Process data elements at two different positions simultaneously.\n",
    "\n",
    "__Dynamic pointer movement__: Both pointers move independently of each other according to certain conditions or criteria. In addition, both pointers might move along the same or two different data structures."
   ]
  },
  {
   "cell_type": "markdown",
   "id": "e2337f2c-b575-4581-90aa-8343834e138e",
   "metadata": {},
   "source": [
    "#### Palindrome using 2 pointers"
   ]
  },
  {
   "cell_type": "code",
   "execution_count": null,
   "id": "78408c25-04a5-4c69-b31f-3dd73cf1e7e2",
   "metadata": {},
   "outputs": [],
   "source": [
    "def is_palindrome(s):\n",
    "  i = 0\n",
    "  j = len(s) - 1\n",
    "  while i < j:\n",
    "    if(s[i] != s[j]):\n",
    "      return False\n",
    "    i += 1\n",
    "    j -= 1\n",
    "  # Replace this placeholder return statement with your code\n",
    "  return True"
   ]
  },
  {
   "cell_type": "markdown",
   "id": "d105e1ab-a384-4697-bc4f-b1ee7fa7230b",
   "metadata": {},
   "source": [
    "#### 2 Sum\n",
    "By iterating through the array and considering each value, we calculate the sum of the current value and the other two values. To find the other two values, we can utilize two pointers in each iteration: one starting from the leftmost element and the other from the rightmost element. Comparing this sum with 825, we increment or decrement the pointers accordingly."
   ]
  },
  {
   "cell_type": "code",
   "execution_count": null,
   "id": "e53a49f8-3b09-4ff2-828a-4abefb40bb83",
   "metadata": {},
   "outputs": [],
   "source": []
  },
  {
   "cell_type": "markdown",
   "id": "933d7aa4-551e-418a-844c-b693a597f886",
   "metadata": {},
   "source": [
    "#### 3 Sum"
   ]
  },
  {
   "cell_type": "code",
   "execution_count": 3,
   "id": "8fa2d091-7f52-44dd-b874-ac8619f3f6ac",
   "metadata": {},
   "outputs": [],
   "source": [
    "def find_sum_of_three(nums, target):\n",
    "  nums.sort()\n",
    "  for i in range(0, len(nums)-2):\n",
    "    low = i+1\n",
    "    high = len(nums) - 1\n",
    "    while low < high:\n",
    "      sum = nums[i] + nums[low] + nums[high]\n",
    "      if sum == target:\n",
    "        return True\n",
    "      elif sum < target:\n",
    "        low += 1\n",
    "      else:\n",
    "        high -= 1\n",
    "    # Replace this placeholder return statement with your code\n",
    "  return False"
   ]
  },
  {
   "cell_type": "code",
   "execution_count": 4,
   "id": "2df3f7f9-1efb-44da-bc94-6be3dcb7e449",
   "metadata": {},
   "outputs": [
    {
     "name": "stdout",
     "output_type": "stream",
     "text": [
      "[-4, -3, -1, 1, 2, 5]\n"
     ]
    },
    {
     "data": {
      "text/plain": [
       "False"
      ]
     },
     "execution_count": 4,
     "metadata": {},
     "output_type": "execute_result"
    }
   ],
   "source": [
    "find_sum_of_three([-1,2,1,-4,5,-3] , -8)"
   ]
  },
  {
   "cell_type": "markdown",
   "id": "0837d4b6-e382-4047-9a72-01d687f94c65",
   "metadata": {},
   "source": [
    "#### Remove Nth Node from End of List"
   ]
  },
  {
   "cell_type": "code",
   "execution_count": null,
   "id": "523e9584",
   "metadata": {},
   "outputs": [],
   "source": []
  },
  {
   "cell_type": "code",
   "execution_count": null,
   "id": "87c6669a-23df-4617-93d1-f8cfe93d8ec9",
   "metadata": {},
   "outputs": [],
   "source": [
    "# Definition for a Linked List node\n",
    "# class LinkedListNode:\n",
    "#     def __init__(self, data, next=None):\n",
    "#         self.data = data\n",
    "#         self.next = next\n",
    "\n",
    "from linked_list import LinkedList\n",
    "from linked_list_node import LinkedListNode\n",
    "\n",
    "def remove_nth_last_node(head, n):\n",
    "  \n",
    "    left = head\n",
    "    right = head\n",
    "    \n",
    "    for i in range(n):\n",
    "        right = right.next\n",
    "    \n",
    "    if not right:\n",
    "        return head.next\n",
    "    \n",
    "    while right.next:\n",
    "        right = right.next\n",
    "        left = left.next\n",
    "        \n",
    "    left.next = left.next.next\n",
    "    # Replace this placeholder return statement with your code\n",
    "    return head"
   ]
  },
  {
   "cell_type": "markdown",
   "id": "cf0eaff5-8af0-4873-9818-2e38fdfbf22a",
   "metadata": {},
   "source": [
    "#### Reverse an array - 2 pointers"
   ]
  },
  {
   "cell_type": "code",
   "execution_count": null,
   "id": "c0ba4197-1142-47ef-aa1d-7060bed651e2",
   "metadata": {},
   "outputs": [],
   "source": []
  },
  {
   "cell_type": "markdown",
   "id": "9a5a7d8f-a821-45e2-b51c-9cb6ec2c49bc",
   "metadata": {},
   "source": [
    "#### Given an array of integers, move all zeros to the end of the array.\n",
    "Initialize two pointers, left and right, both starting at the beginning of the array. As the right pointer moves through the array, if it encounters a nonzero element, swap the elements at the left and right positions, and then increment both pointers. If the right pointer encounters a zero, only increment the right pointer. Continue this process until the right pointer reaches the end of the array."
   ]
  },
  {
   "cell_type": "code",
   "execution_count": null,
   "id": "b8578e52-6d2f-429a-8f0e-32cfaa296150",
   "metadata": {},
   "outputs": [],
   "source": []
  },
  {
   "cell_type": "markdown",
   "id": "546f70d7-2b9d-4036-a0ad-992852901880",
   "metadata": {},
   "source": []
  },
  {
   "cell_type": "code",
   "execution_count": null,
   "id": "bfdb64bb-6a97-4b3c-bbad-784354d6e2a7",
   "metadata": {},
   "outputs": [],
   "source": []
  },
  {
   "cell_type": "markdown",
   "id": "fd1be9b4-715b-4ca4-81ee-c31bddb7cfce",
   "metadata": {},
   "source": []
  },
  {
   "cell_type": "code",
   "execution_count": null,
   "id": "d043df5d-a8af-4d1f-b41e-c936ad87476b",
   "metadata": {},
   "outputs": [],
   "source": []
  },
  {
   "cell_type": "markdown",
   "id": "a8bb4824-b307-4111-a1da-f557926f680f",
   "metadata": {},
   "source": []
  }
 ],
 "metadata": {
  "kernelspec": {
   "display_name": "Python 3 (ipykernel)",
   "language": "python",
   "name": "python3"
  },
  "language_info": {
   "codemirror_mode": {
    "name": "ipython",
    "version": 3
   },
   "file_extension": ".py",
   "mimetype": "text/x-python",
   "name": "python",
   "nbconvert_exporter": "python",
   "pygments_lexer": "ipython3",
   "version": "3.11.0"
  }
 },
 "nbformat": 4,
 "nbformat_minor": 5
}
