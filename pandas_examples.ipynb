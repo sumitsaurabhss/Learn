{
 "cells": [
  {
   "cell_type": "code",
   "execution_count": 1,
   "id": "c734a2ea-2bfe-4964-bf2b-5b1bbd52e602",
   "metadata": {},
   "outputs": [],
   "source": [
    "import pandas as pd"
   ]
  },
  {
   "cell_type": "markdown",
   "id": "51cb1cde-530d-4113-8c5f-c42971c0b30e",
   "metadata": {},
   "source": [
    "> `xlrd` library is essential to read excel files in pandas."
   ]
  },
  {
   "cell_type": "code",
   "execution_count": 2,
   "id": "ca57cc82-3cd4-4790-b7a4-582b5988496a",
   "metadata": {},
   "outputs": [
    {
     "data": {
      "text/plain": [
       "(30000, 25)"
      ]
     },
     "execution_count": 2,
     "metadata": {},
     "output_type": "execute_result"
    }
   ],
   "source": [
    "df = pd.read_excel('Credit Card Fraud Detection/Data/default_of_credit_card_clients__courseware_version_1_21_19.xls')\n",
    "df.shape"
   ]
  },
  {
   "cell_type": "code",
   "execution_count": 3,
   "id": "5880cb13-53e5-411b-ae8f-79b91c773a59",
   "metadata": {},
   "outputs": [
    {
     "data": {
      "text/plain": [
       "Index(['ID', 'LIMIT_BAL', 'SEX', 'EDUCATION', 'MARRIAGE', 'AGE', 'PAY_1',\n",
       "       'PAY_2', 'PAY_3', 'PAY_4', 'PAY_5', 'PAY_6', 'BILL_AMT1', 'BILL_AMT2',\n",
       "       'BILL_AMT3', 'BILL_AMT4', 'BILL_AMT5', 'BILL_AMT6', 'PAY_AMT1',\n",
       "       'PAY_AMT2', 'PAY_AMT3', 'PAY_AMT4', 'PAY_AMT5', 'PAY_AMT6',\n",
       "       'default payment next month'],\n",
       "      dtype='object')"
      ]
     },
     "execution_count": 3,
     "metadata": {},
     "output_type": "execute_result"
    }
   ],
   "source": [
    "df.columns"
   ]
  },
  {
   "cell_type": "code",
   "execution_count": null,
   "id": "097f9e73-4b59-4acf-80e6-20ff3106f93b",
   "metadata": {},
   "outputs": [],
   "source": [
    "df.head()"
   ]
  },
  {
   "cell_type": "code",
   "execution_count": null,
   "id": "24e53ba1-78e0-4291-af73-4e274065dee7",
   "metadata": {},
   "outputs": [],
   "source": [
    "df.tail()"
   ]
  },
  {
   "cell_type": "markdown",
   "id": "d3247983-8e6d-4c95-a754-74888b327dd7",
   "metadata": {},
   "source": [
    ">`nunique()` tells number of unique or distinct values."
   ]
  },
  {
   "cell_type": "code",
   "execution_count": 4,
   "id": "4e28f351-554e-42c7-99e9-28a7f51b6246",
   "metadata": {},
   "outputs": [
    {
     "data": {
      "text/plain": [
       "29687"
      ]
     },
     "execution_count": 4,
     "metadata": {},
     "output_type": "execute_result"
    }
   ],
   "source": [
    "df['ID'].nunique()"
   ]
  },
  {
   "cell_type": "markdown",
   "id": "5c30cc88-0d38-49ba-a881-936291c24aca",
   "metadata": {},
   "source": [
    "> Single column can also be used using `.`."
   ]
  },
  {
   "cell_type": "code",
   "execution_count": 5,
   "id": "d08d6005-3a98-4df8-b9ba-cfbd09c20faf",
   "metadata": {},
   "outputs": [
    {
     "data": {
      "text/plain": [
       "29687"
      ]
     },
     "execution_count": 5,
     "metadata": {},
     "output_type": "execute_result"
    }
   ],
   "source": [
    "df.ID.nunique()"
   ]
  },
  {
   "cell_type": "markdown",
   "id": "3eb1d339-b3d0-49c8-aa41-c21553591f1c",
   "metadata": {},
   "source": [
    "`unique()` prints unique (distinct) values."
   ]
  },
  {
   "cell_type": "code",
   "execution_count": 6,
   "id": "a9506ef6-5a22-46e2-b520-8dea41dc35c0",
   "metadata": {},
   "outputs": [
    {
     "data": {
      "text/plain": [
       "array(['798fc410-45c1', '8a8c8f3b-8eb4', '85698822-43f5', ...,\n",
       "       '95cdd3e7-4f24', '00d03f02-04cd', '15d69f9f-5ad3'],\n",
       "      shape=(29687,), dtype=object)"
      ]
     },
     "execution_count": 6,
     "metadata": {},
     "output_type": "execute_result"
    }
   ],
   "source": [
    "df['ID'].unique()"
   ]
  },
  {
   "cell_type": "markdown",
   "id": "8f7d2650-360e-4ef7-a734-d9dee38b8a74",
   "metadata": {},
   "source": [
    "> `value_counts()` prints repitition of values in descending order of frequency (repitition)."
   ]
  },
  {
   "cell_type": "code",
   "execution_count": 9,
   "id": "c69d30f3-0a16-4ba1-8a09-8a8d47325e42",
   "metadata": {},
   "outputs": [],
   "source": [
    "id_counts = df['ID'].value_counts()"
   ]
  },
  {
   "cell_type": "markdown",
   "id": "6b9619c0-48ad-4fd5-8594-3bc54216d545",
   "metadata": {},
   "source": [
    "## Boolean Mask\n",
    "Convert a column to boolean values based on a certain condition. When using a boolean mask as index in a Dataframe, only data with True values in mask are returned."
   ]
  },
  {
   "cell_type": "code",
   "execution_count": 10,
   "id": "7f545e01-ea0d-4b25-8f6a-a61b41ccb97b",
   "metadata": {},
   "outputs": [],
   "source": [
    "dup_mask = id_counts >= 2"
   ]
  },
  {
   "cell_type": "code",
   "execution_count": 13,
   "id": "21067d33-4aea-4a40-af2b-1947edde346a",
   "metadata": {},
   "outputs": [
    {
     "data": {
      "text/plain": [
       "ID\n",
       "7d5f3242-e1df    2\n",
       "1b22b0ab-aba3    2\n",
       "4cb27699-fe3f    2\n",
       "91c69d1a-8732    2\n",
       "bf23c70b-bf12    2\n",
       "                ..\n",
       "f12b9d9e-ada0    2\n",
       "e7cd8c1a-88e9    2\n",
       "90330d02-82d9    2\n",
       "ad23fe5c-7b09    2\n",
       "97d1d2eb-c72f    2\n",
       "Name: count, Length: 313, dtype: int64"
      ]
     },
     "execution_count": 13,
     "metadata": {},
     "output_type": "execute_result"
    }
   ],
   "source": [
    "id_counts[dup_mask]"
   ]
  },
  {
   "cell_type": "markdown",
   "id": "02675c1b-e5ab-48e6-af4d-7f05b91dfc29",
   "metadata": {},
   "source": [
    "> `index` on a Dataframe returns indices of the dataframe."
   ]
  },
  {
   "cell_type": "code",
   "execution_count": 14,
   "id": "ba59b21f-6186-4a14-94c9-a4fb74628ca4",
   "metadata": {},
   "outputs": [
    {
     "data": {
      "text/plain": [
       "Index(['7d5f3242-e1df', '1b22b0ab-aba3', '4cb27699-fe3f', '91c69d1a-8732',\n",
       "       'bf23c70b-bf12', 'db91a87c-3cbe', '428b26a3-dca2', '424e8a3c-0377',\n",
       "       'ff619017-560f', 'f6032812-464e',\n",
       "       ...\n",
       "       '8f9549b7-d5a4', '6d1fc219-67b0', '415c344e-309f', 'a9870d3e-b4d1',\n",
       "       '9e6e766d-ba75', 'f12b9d9e-ada0', 'e7cd8c1a-88e9', '90330d02-82d9',\n",
       "       'ad23fe5c-7b09', '97d1d2eb-c72f'],\n",
       "      dtype='object', name='ID', length=313)"
      ]
     },
     "execution_count": 14,
     "metadata": {},
     "output_type": "execute_result"
    }
   ],
   "source": [
    "id_counts.index[dup_mask]"
   ]
  },
  {
   "cell_type": "code",
   "execution_count": null,
   "id": "253bfe60-678a-42a3-85ee-f5ab47902e31",
   "metadata": {},
   "outputs": [],
   "source": []
  }
 ],
 "metadata": {
  "kernelspec": {
   "display_name": "Python (DS)",
   "language": "python",
   "name": ".env"
  },
  "language_info": {
   "codemirror_mode": {
    "name": "ipython",
    "version": 3
   },
   "file_extension": ".py",
   "mimetype": "text/x-python",
   "name": "python",
   "nbconvert_exporter": "python",
   "pygments_lexer": "ipython3",
   "version": "3.11.0"
  }
 },
 "nbformat": 4,
 "nbformat_minor": 5
}
