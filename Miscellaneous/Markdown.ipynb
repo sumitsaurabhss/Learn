{
 "cells": [
  {
   "cell_type": "code",
   "execution_count": null,
   "id": "a03f2c3a-b627-4183-97ae-0616520807fb",
   "metadata": {},
   "outputs": [],
   "source": [
    "$$a \\quad b \\qquad c$$\n",
    "\n",
    "$$a~b$$\n",
    "\n",
    "$$a \\hspace{1cm} b \\hspace{2cm} c$$\n",
    "\n",
    "\\begin{align*}\n",
    "a &= b + c \\\\\n",
    "d &= e + f\n",
    "\\end{align*}"
   ]
  },
  {
   "cell_type": "markdown",
   "id": "73cc9adb-bcd5-46c1-9d3c-95002bb58d3d",
   "metadata": {},
   "source": [
    "Whitespace\n",
    "Spaces:\n",
    "\n",
    "In LaTeX, you can use \\ to add a space.\n",
    "For multiple spaces, you can use \\quad (for a wider space) or \\qquad (for an even wider space).\n",
    "$$a \\quad b \\qquad c$$\n",
    "\n",
    "Non-breaking Space:\n",
    "\n",
    "Use ~ to add a non-breaking space.\n",
    "$$a~b$$\n",
    "\n",
    "\n",
    "Tabs\n",
    "Indentation:\n",
    "\n",
    "LaTeX does not have a direct tab character, but you can simulate indentation using \\hspace{}.\n",
    "$$a \\hspace{1cm} b \\hspace{2cm} c$$\n",
    "\n",
    "\n",
    "Aligning Equations:\n",
    "\n",
    "Use the align environment to align equations properly.\n",
    "\\begin{align*}\n",
    "a &= b + c \\\\\n",
    "d &= e + f\n",
    "\\end{align*}"
   ]
  },
  {
   "cell_type": "code",
   "execution_count": null,
   "id": "baf42e77-63b5-4631-9881-45a99a3b3ae6",
   "metadata": {},
   "outputs": [],
   "source": [
    "### Absolute Value Notation\n",
    "\n",
    "- **Single Absolute Value**: $$|x|$$\n",
    "- **Absolute Value of an Expression**: $$|a + b|$$\n",
    "- **Double Absolute Value (Norm)**: $$\\|x\\|$$"
   ]
  },
  {
   "cell_type": "markdown",
   "id": "d36551a0-d370-4820-a489-d4facf6693c9",
   "metadata": {},
   "source": [
    "### Absolute Value Notation\n",
    "\n",
    "- **Single Absolute Value**: $$|x|$$\n",
    "- **Absolute Value of an Expression**: $$|a + b|$$\n",
    "- **Double Absolute Value (Norm)**: $$\\|x\\|$$"
   ]
  },
  {
   "cell_type": "markdown",
   "id": "cc5aaafb-056e-403a-818e-c5f1e1be7832",
   "metadata": {},
   "source": [
    "Relational & Logical Operators"
   ]
  },
  {
   "cell_type": "markdown",
   "id": "6181b8b3-e79c-4722-a012-4430c5c619bf",
   "metadata": {},
   "source": [
    "$$a \\land b$$"
   ]
  },
  {
   "cell_type": "markdown",
   "id": "31025a4f-c436-4be2-a94a-9ea869d3de70",
   "metadata": {},
   "source": [
    "$$a \\land b$$"
   ]
  },
  {
   "cell_type": "code",
   "execution_count": null,
   "id": "ee637018-76b6-4cc7-ad93-d31929b8895c",
   "metadata": {},
   "outputs": [],
   "source": [
    "$$a \\lor b$$"
   ]
  },
  {
   "cell_type": "markdown",
   "id": "7364867e-982e-4fd3-aea9-fd10b5440600",
   "metadata": {},
   "source": [
    "$$a \\lor b$$"
   ]
  },
  {
   "cell_type": "code",
   "execution_count": null,
   "id": "691d3224-3f2e-49fe-abbf-c146ac20fec3",
   "metadata": {},
   "outputs": [],
   "source": [
    "$$\\neg a$$"
   ]
  },
  {
   "cell_type": "markdown",
   "id": "334722f0-22bf-4a3e-be92-daacfa446dca",
   "metadata": {},
   "source": [
    "$$\\neg a$$"
   ]
  },
  {
   "cell_type": "code",
   "execution_count": null,
   "id": "048fddf2-5e46-477a-af0c-cef008778f80",
   "metadata": {},
   "outputs": [],
   "source": [
    "$$a \\neq b$$"
   ]
  },
  {
   "cell_type": "markdown",
   "id": "a286573f-355c-403c-bb69-763529b3985b",
   "metadata": {},
   "source": [
    "$$a \\neq b$$"
   ]
  },
  {
   "cell_type": "code",
   "execution_count": 1,
   "id": "549d9810-7d64-4863-ab48-d9083d8b2e05",
   "metadata": {},
   "outputs": [
    {
     "ename": "SyntaxError",
     "evalue": "invalid syntax (2729731589.py, line 1)",
     "output_type": "error",
     "traceback": [
      "\u001b[1;36m  Cell \u001b[1;32mIn[1], line 1\u001b[1;36m\u001b[0m\n\u001b[1;33m    $$a \\geq b$$\u001b[0m\n\u001b[1;37m    ^\u001b[0m\n\u001b[1;31mSyntaxError\u001b[0m\u001b[1;31m:\u001b[0m invalid syntax\n"
     ]
    }
   ],
   "source": [
    "$$a \\geq b$$"
   ]
  },
  {
   "cell_type": "markdown",
   "id": "6b5653c2-d7a3-4fb9-9c26-fb75eae71aa4",
   "metadata": {},
   "source": [
    "$$a \\geq b$$"
   ]
  },
  {
   "cell_type": "code",
   "execution_count": null,
   "id": "544b58fc-4ef7-492f-84cc-90d1832cff15",
   "metadata": {},
   "outputs": [],
   "source": [
    "$$a \\leq b$$"
   ]
  },
  {
   "cell_type": "markdown",
   "id": "b2bdb0cf-1b51-4690-9982-e2456f8f392e",
   "metadata": {},
   "source": [
    "$$a \\leq b$$"
   ]
  },
  {
   "cell_type": "code",
   "execution_count": null,
   "id": "42b6d2ee-fe48-4305-8cbf-69b34d929d7a",
   "metadata": {},
   "outputs": [],
   "source": [
    "$$\\frac{a}{b}$$"
   ]
  },
  {
   "cell_type": "markdown",
   "id": "9792c843-83a0-45b2-826e-174668ef398d",
   "metadata": {},
   "source": [
    "$$\\frac{a}{b}$$"
   ]
  },
  {
   "cell_type": "code",
   "execution_count": null,
   "id": "42a657d2-9183-4c6d-ae71-4da4c3ac5de9",
   "metadata": {},
   "outputs": [],
   "source": [
    "$$\\sqrt{x}$$"
   ]
  },
  {
   "cell_type": "markdown",
   "id": "b719bc80-d936-49a9-9231-dbd777747fb4",
   "metadata": {},
   "source": [
    "$$\\sqrt{x}$$"
   ]
  },
  {
   "cell_type": "code",
   "execution_count": null,
   "id": "65eb4e68-0ba8-4bbd-889d-fff165ef07a8",
   "metadata": {},
   "outputs": [],
   "source": [
    "$$x^n$$"
   ]
  },
  {
   "cell_type": "markdown",
   "id": "20db934e-1fe5-4efd-93e7-b1acddc286d4",
   "metadata": {},
   "source": [
    "$$x^n$$"
   ]
  },
  {
   "cell_type": "code",
   "execution_count": null,
   "id": "1e32cf97-a7ed-46eb-b859-90cf138571e6",
   "metadata": {},
   "outputs": [],
   "source": [
    "$$\\sum_{i=1}^{n} i$$"
   ]
  },
  {
   "cell_type": "markdown",
   "id": "e33de449-375d-48fc-94be-793ddd998208",
   "metadata": {},
   "source": [
    "$$\\sum_{i=1}^{n} i$$"
   ]
  },
  {
   "cell_type": "code",
   "execution_count": null,
   "id": "c32ef720-f90d-43cd-b45a-3054e9b00b1b",
   "metadata": {},
   "outputs": [],
   "source": [
    "$$\\int_{a}^{b} f(x) \\, dx$$"
   ]
  },
  {
   "cell_type": "markdown",
   "id": "36882d2e-6917-497b-82df-dce431f64a0f",
   "metadata": {},
   "source": [
    "$$\\int_{a}^{b} f(x) \\, dx$$"
   ]
  },
  {
   "cell_type": "code",
   "execution_count": null,
   "id": "c6762a1f-0204-4d23-8648-23410c424f0a",
   "metadata": {},
   "outputs": [],
   "source": [
    "$$\\lim_{x \\to \\infty} f(x)$$"
   ]
  },
  {
   "cell_type": "markdown",
   "id": "dbf1faa1-9375-417d-b46b-697850009943",
   "metadata": {},
   "source": [
    "$$\\lim_{x \\to \\infty} f(x)$$"
   ]
  },
  {
   "cell_type": "code",
   "execution_count": null,
   "id": "20597b0f-ac51-4f5a-92bc-2972f97c29e1",
   "metadata": {},
   "outputs": [],
   "source": [
    "$$\\alpha, \\beta, \\gamma, \\delta$$"
   ]
  },
  {
   "cell_type": "markdown",
   "id": "8f791615-12cf-4e0d-8510-ade9e1608cbe",
   "metadata": {},
   "source": [
    "$$\\alpha, \\beta, \\gamma, \\delta$$"
   ]
  },
  {
   "cell_type": "code",
   "execution_count": null,
   "id": "63ebcafb-2da5-4f19-902f-6af26dec9199",
   "metadata": {},
   "outputs": [],
   "source": [
    "$$\\begin{pmatrix} a & b \\\\ c & d \\end{pmatrix}$$"
   ]
  },
  {
   "cell_type": "markdown",
   "id": "4f2720e8-8fda-4e58-864d-ac790d3736a5",
   "metadata": {},
   "source": [
    "$$\\begin{pmatrix} a & b \\\\ c & d \\end{pmatrix}$$"
   ]
  },
  {
   "cell_type": "code",
   "execution_count": null,
   "id": "67cb6ed1-46ff-408c-ac84-7f8243a7f046",
   "metadata": {},
   "outputs": [],
   "source": [
    "$$\\vec{v} = \\begin{pmatrix} x \\\\ y \\\\ z \\end{pmatrix}$$"
   ]
  },
  {
   "cell_type": "markdown",
   "id": "f8802e71-4fb8-46c6-99f3-068461a50a65",
   "metadata": {},
   "source": [
    "$$\\vec{v} = \\begin{pmatrix} x \\\\ y \\\\ z \\end{pmatrix}$$"
   ]
  },
  {
   "cell_type": "code",
   "execution_count": null,
   "id": "9dfb7fd1-32ca-4c94-b9bf-a05f44f40b30",
   "metadata": {},
   "outputs": [],
   "source": [
    "$$\\int_{a}^{b} x^2 \\, dx = \\left[ \\frac{x^3}{3} \\right]_{a}^{b} = \\frac{b^3}{3} - \\frac{a^3}{3}$$"
   ]
  },
  {
   "cell_type": "markdown",
   "id": "862aa530-48ac-415f-9674-ec0ac76ed9b1",
   "metadata": {},
   "source": [
    "$$\\int_{a}^{b} x^2 \\, dx = \\left[ \\frac{x^3}{3} \\right]_{a}^{b} = \\frac{b^3}{3} - \\frac{a^3}{3}$$"
   ]
  },
  {
   "cell_type": "code",
   "execution_count": null,
   "id": "8f449d34-0314-4753-b263-cea56a8da1ee",
   "metadata": {},
   "outputs": [],
   "source": [
    "The quadratic formula is given by:\n",
    "$$\n",
    "x = \\frac{-b \\pm \\sqrt{b^2 - 4ac}}{2a}\n",
    "$$"
   ]
  },
  {
   "cell_type": "markdown",
   "id": "777450e1-f0a0-450e-a01a-c13ff905ef13",
   "metadata": {},
   "source": [
    "The quadratic formula is given by:\n",
    "$$\n",
    "x = \\frac{-b \\pm \\sqrt{b^2 - 4ac}}{2a}\n",
    "$$"
   ]
  },
  {
   "cell_type": "code",
   "execution_count": null,
   "id": "4f87034f-d478-47ac-acc3-2bb40d50df5b",
   "metadata": {},
   "outputs": [],
   "source": [
    "$$\\bar{x} = \\frac{1}{n} \\sum_{i=1}^{n} x_i$$"
   ]
  },
  {
   "cell_type": "markdown",
   "id": "7e68e486-3825-4730-bd9a-1825bb857dbd",
   "metadata": {},
   "source": [
    "$$\\bar{x} = \\frac{1}{n} \\sum_{i=1}^{n} x_i$$"
   ]
  },
  {
   "cell_type": "code",
   "execution_count": null,
   "id": "573a3585-2d59-4c4f-a8ea-f1ead5848b36",
   "metadata": {},
   "outputs": [],
   "source": [
    "$$\\sigma^2 = \\frac{1}{n} \\sum_{i=1}^{n} (x_i - \\bar{x})^2$$"
   ]
  },
  {
   "cell_type": "markdown",
   "id": "2e57cfda-af97-4cd4-a593-86e3c87d373d",
   "metadata": {},
   "source": [
    "$$\\sigma^2 = \\frac{1}{n} \\sum_{i=1}^{n} (x_i - \\bar{x})^2$$"
   ]
  },
  {
   "cell_type": "code",
   "execution_count": null,
   "id": "99746b06-9f4c-4784-859e-cc07c08edc12",
   "metadata": {},
   "outputs": [],
   "source": [
    "$$\\sigma = \\sqrt{\\frac{1}{n} \\sum_{i=1}^{n} (x_i - \\bar{x})^2}$$"
   ]
  },
  {
   "cell_type": "markdown",
   "id": "5422130a-ab7c-47d0-8ad7-4ad35318735e",
   "metadata": {},
   "source": [
    "$$\\sigma = \\sqrt{\\frac{1}{n} \\sum_{i=1}^{n} (x_i - \\bar{x})^2}$$"
   ]
  },
  {
   "cell_type": "code",
   "execution_count": null,
   "id": "9c6c4f96-dff4-4b6d-a42e-849433361d10",
   "metadata": {},
   "outputs": [],
   "source": [
    "$$P(A) = \\frac{\\text{Number of favorable outcomes}}{\\text{Total number of outcomes}}$$"
   ]
  },
  {
   "cell_type": "markdown",
   "id": "2a57905b-3670-456b-8123-cbda5d39c0a3",
   "metadata": {},
   "source": [
    "$$P(A) = \\frac{\\text{Number of favorable outcomes}}{\\text{Total number of outcomes}}$$"
   ]
  },
  {
   "cell_type": "code",
   "execution_count": null,
   "id": "1396b10a-a9f6-4e60-b1c9-6b6caf312f3f",
   "metadata": {},
   "outputs": [],
   "source": [
    "$$P(X = k) = \\binom{n}{k} p^k (1-p)^{n-k}$$"
   ]
  },
  {
   "cell_type": "markdown",
   "id": "52c3999a-f5ee-4d02-86c0-1a8080e7dc98",
   "metadata": {},
   "source": [
    "$$P(X = k) = \\binom{n}{k} p^k (1-p)^{n-k}$$"
   ]
  },
  {
   "cell_type": "code",
   "execution_count": null,
   "id": "79aa470d-1620-4853-a5a8-1fee5be6b9b4",
   "metadata": {},
   "outputs": [],
   "source": [
    "$$f(x) = \\frac{1}{\\sigma \\sqrt{2\\pi}} e^{-\\frac{(x - \\mu)^2}{2\\sigma^2}}$$"
   ]
  },
  {
   "cell_type": "markdown",
   "id": "1342abef-db23-4d5d-ac1a-4fe9af5b8d35",
   "metadata": {},
   "source": [
    "$$f(x) = \\frac{1}{\\sigma \\sqrt{2\\pi}} e^{-\\frac{(x - \\mu)^2}{2\\sigma^2}}$$"
   ]
  },
  {
   "cell_type": "code",
   "execution_count": null,
   "id": "4fd658e6-7864-406c-921e-19c2d024cf9d",
   "metadata": {},
   "outputs": [],
   "source": [
    "$$z = \\frac{x - \\mu}{\\sigma}$$"
   ]
  },
  {
   "cell_type": "markdown",
   "id": "b2498bbc-109f-4d3b-86d7-7eb39b05cb40",
   "metadata": {},
   "source": [
    "$$z = \\frac{x - \\mu}{\\sigma}$$"
   ]
  },
  {
   "cell_type": "code",
   "execution_count": null,
   "id": "8284becc-6802-43e3-83ad-27c87ea47c37",
   "metadata": {},
   "outputs": [],
   "source": [
    "$$r = \\frac{\\sum (x_i - \\bar{x})(y_i - \\bar{y})}{\\sqrt{\\sum (x_i - \\bar{x})^2 \\sum (y_i - \\bar{y})^2}}$$"
   ]
  },
  {
   "cell_type": "markdown",
   "id": "e12db144-f393-40f9-b3f0-94c65854f1b0",
   "metadata": {},
   "source": [
    "$$r = \\frac{\\sum (x_i - \\bar{x})(y_i - \\bar{y})}{\\sqrt{\\sum (x_i - \\bar{x})^2 \\sum (y_i - \\bar{y})^2}}$$"
   ]
  },
  {
   "cell_type": "code",
   "execution_count": null,
   "id": "ffc8d151-ee51-4b45-b379-339972591e09",
   "metadata": {},
   "outputs": [],
   "source": [
    "$$\\bar{x} \\pm z \\frac{\\sigma}{\\sqrt{n}}$$"
   ]
  },
  {
   "cell_type": "markdown",
   "id": "8c18c012-e7b8-42b4-b590-c3d153db1722",
   "metadata": {},
   "source": [
    "$$\\bar{x} \\pm z \\frac{\\sigma}{\\sqrt{n}}$$"
   ]
  },
  {
   "cell_type": "code",
   "execution_count": null,
   "id": "596e7fb9-9579-4718-930d-31fc49c4c3a5",
   "metadata": {},
   "outputs": [],
   "source": [
    "$$\\chi^2 = \\sum \\frac{(O_i - E_i)^2}{E_i}$$"
   ]
  },
  {
   "cell_type": "markdown",
   "id": "8c62c7fa-2cae-408b-95cf-ef98c8274c83",
   "metadata": {},
   "source": [
    "$$\\chi^2 = \\sum \\frac{(O_i - E_i)^2}{E_i}$$"
   ]
  },
  {
   "cell_type": "code",
   "execution_count": null,
   "id": "9e57cda7-eda6-4089-b2f3-48f39358fa71",
   "metadata": {},
   "outputs": [],
   "source": []
  }
 ],
 "metadata": {
  "kernelspec": {
   "display_name": "Python (DS)",
   "language": "python",
   "name": ".env"
  },
  "language_info": {
   "codemirror_mode": {
    "name": "ipython",
    "version": 3
   },
   "file_extension": ".py",
   "mimetype": "text/x-python",
   "name": "python",
   "nbconvert_exporter": "python",
   "pygments_lexer": "ipython3",
   "version": "3.11.0"
  }
 },
 "nbformat": 4,
 "nbformat_minor": 5
}
