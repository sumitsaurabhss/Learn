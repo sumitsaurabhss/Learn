{
 "cells": [
  {
   "cell_type": "code",
   "execution_count": 1,
   "metadata": {},
   "outputs": [],
   "source": [
    "import streamlit as st"
   ]
  },
  {
   "cell_type": "markdown",
   "metadata": {},
   "source": [
    "## Text with Streamlit"
   ]
  },
  {
   "cell_type": "markdown",
   "metadata": {},
   "source": [
    "### Title\n",
    "`st.title()` for title at the top of the application."
   ]
  },
  {
   "cell_type": "markdown",
   "metadata": {},
   "source": [
    "### Headings\n",
    "`st.header()` for any major section of our application.  \n",
    "`st.subheader()` for smaller sections within each major section."
   ]
  },
  {
   "cell_type": "markdown",
   "metadata": {},
   "source": [
    "### Text\n",
    "`st.text()` For the general text within our application body.  \n",
    "`st.markdown()` for special formatting requirements, it allows us to use Markdown.   \n",
    "`st.write()` to add text. It will display whatever we specify in the parentheses based on the type of thing it is. It can handle multiple types of data, including strings, numbers, dataframes, and even Matplotlib figures. It automatically formats the input based on its type. For example, it will render a dataframe as a table."
   ]
  },
  {
   "cell_type": "markdown",
   "metadata": {},
   "source": [
    "### Mathematical equations\n",
    "`st.latex()` to display mathematical equations. Wrap the LaTex equation in a raw string to ensure it’s rendered correctly."
   ]
  },
  {
   "cell_type": "markdown",
   "metadata": {},
   "source": [
    "### Caption\n",
    "`st.caption()` to display the captions of items displayed in application."
   ]
  },
  {
   "cell_type": "markdown",
   "metadata": {},
   "source": [
    "> To divide screen into columns, assign variables their diplay ratio with `st.columns()` by passing the ratio in form of a list of numbers as parameter of the method, or just a sinle number for equal partition of columns. Then use `with column_variable:` to display content in that column."
   ]
  },
  {
   "cell_type": "markdown",
   "metadata": {},
   "source": [
    "## Data with Streamlit\n",
    "four ways:\n",
    "- Metric\n",
    "- DataFrame\n",
    "- Table\n",
    "- JSON"
   ]
  },
  {
   "cell_type": "markdown",
   "metadata": {},
   "source": [
    "### Metric\n",
    "`st.metric()` For just a single number to show as a key metric. \n",
    "- `label` option to display label for the metric\n",
    "- `value` option for the value to be displayed \n",
    "- `delta` option to show whether the metric increases or decreases. Ngative value to display decrease, which is displayed in red. An increase is displayed in green."
   ]
  },
  {
   "cell_type": "markdown",
   "metadata": {},
   "source": [
    "### DataFrame\n",
    "`st.dataframe()` to display data as a dataframe. Takes data dataframe object as parameter."
   ]
  },
  {
   "cell_type": "markdown",
   "metadata": {},
   "source": [
    "### Table\n",
    "`st.table()` to display data as a table. Can take dataframe object as parameter."
   ]
  },
  {
   "cell_type": "markdown",
   "metadata": {},
   "source": [
    "### JSON\n",
    "`st.json()` for data in the form of dictionary. Data can't be displayed if it's been converted into a DataFrame already."
   ]
  },
  {
   "cell_type": "markdown",
   "metadata": {},
   "source": [
    "## Charts with Streamlit"
   ]
  },
  {
   "cell_type": "markdown",
   "metadata": {},
   "source": [
    "### Native charts\n",
    "`st.line_chart()` for line chart  \n",
    "`st.area_chart()` for an area chart  \n",
    "`st.bar_chart()` for a bar chart  "
   ]
  },
  {
   "cell_type": "markdown",
   "metadata": {},
   "source": [
    "### External libraries\n",
    "Streamlit has bindings to use external libraries like Matplotlib, Seaborn, Plotly etc. It takes fig object as parameter with details from libraries.   \n",
    "For Matplotlib and Seaborn, it has `st.pyplot()` method.  \n",
    "For Plotly, it has `st.plotly_chart()` method."
   ]
  },
  {
   "cell_type": "markdown",
   "metadata": {},
   "source": [
    "## Media with Streamlit\n",
    "`st.image()`  \n",
    "`st.video()`  \n",
    "`st.audio()`  \n",
    "Use file address as parameter"
   ]
  },
  {
   "cell_type": "markdown",
   "metadata": {},
   "source": [
    "#### st.image()\n",
    "`Image.open()` takes an image file to open an image for processing in Streamlit.  \n",
    "`image_object.rotate()` takes an angle as a parameter to rotate an image at the given angle.  \n",
    "`image_object.transpose()` takes `Image.FLIP_LEFT_RIGHT` and `Image.FLIP_TOP_BOTTOM`.\n",
    "`image_object.resize()` takes width and height parameters respectivelly."
   ]
  },
  {
   "cell_type": "markdown",
   "metadata": {},
   "source": [
    "> Media accessed this way can be used as inputs in detection systems, whether computer vision or audio. They can also be inputs to media processing systems - for example, image processing using the Pillow Imaging Library (PIL)."
   ]
  },
  {
   "cell_type": "markdown",
   "metadata": {},
   "source": [
    "`st.sidebar` used with other method with a dot to create an object of that method in a sidebar.  "
   ]
  },
  {
   "cell_type": "markdown",
   "metadata": {},
   "source": [
    "`st.file_uploader()` takes a string as a label option, and a list of file formats as `type` parameter."
   ]
  },
  {
   "cell_type": "markdown",
   "metadata": {},
   "source": [
    "`st.selectbox()` takes a string as a label, and a list of values as options for the selectboxes under that label."
   ]
  },
  {
   "cell_type": "markdown",
   "metadata": {},
   "source": [
    "`st.select_slider()` takes a string as the first parameter for label, and a list of values for the slider object."
   ]
  },
  {
   "cell_type": "markdown",
   "metadata": {},
   "source": [
    "`st.radio()` takes a string as a label, and a list of values as options for the radio buttons under that label."
   ]
  },
  {
   "cell_type": "markdown",
   "metadata": {},
   "source": [
    "## Code with Streamlit"
   ]
  },
  {
   "cell_type": "markdown",
   "metadata": {},
   "source": [
    "`st.code()` to display code without execution. Takes string parameter for code, and a string mentioning language as `language` parameter.  \n",
    "\n",
    "`st.echo()` in `with` statement to display and execute code. "
   ]
  },
  {
   "cell_type": "markdown",
   "metadata": {},
   "source": [
    "## Progress and Status with Streamlit"
   ]
  },
  {
   "cell_type": "markdown",
   "metadata": {},
   "source": [
    "### Progress\n",
    "`st.progress()` and `st.spinner()` show the progress of an operation. Using along with `st.success()` method lets users know when an operation is done.\n",
    "\n",
    "`st.balloons()` gives a more animated indication of an operation's completion."
   ]
  }
 ],
 "metadata": {
  "kernelspec": {
   "display_name": "venv",
   "language": "python",
   "name": "python3"
  },
  "language_info": {
   "codemirror_mode": {
    "name": "ipython",
    "version": 3
   },
   "file_extension": ".py",
   "mimetype": "text/x-python",
   "name": "python",
   "nbconvert_exporter": "python",
   "pygments_lexer": "ipython3",
   "version": "3.11.0"
  }
 },
 "nbformat": 4,
 "nbformat_minor": 2
}
