{
 "cells": [
  {
   "cell_type": "markdown",
   "metadata": {},
   "source": [
    "# Type checking and data validation using Pydantic\n",
    "\n",
    "**Type checking** verifies that the data types used in a computer program are correct.\n",
    "\n",
    "**Data validation** is the process of ensuring that data is accurate, complete, and consistent.\n",
    "\n",
    "**Pydantic** is a Python library that provides a powerful and intuitive way to perform type-checking and data validation. It leverages Python’s type annotations to define and validate data structures, making it easy to ensure that data is consistent and correct."
   ]
  },
  {
   "cell_type": "code",
   "execution_count": 1,
   "metadata": {},
   "outputs": [
    {
     "name": "stdout",
     "output_type": "stream",
     "text": [
      "Requirement already satisfied: pydantic in c:\\users\\sumitsaurabh\\sumit-saurabh\\venv\\lib\\site-packages (2.10.6)\n",
      "Requirement already satisfied: annotated-types>=0.6.0 in c:\\users\\sumitsaurabh\\sumit-saurabh\\venv\\lib\\site-packages (from pydantic) (0.7.0)\n",
      "Requirement already satisfied: pydantic-core==2.27.2 in c:\\users\\sumitsaurabh\\sumit-saurabh\\venv\\lib\\site-packages (from pydantic) (2.27.2)\n",
      "Requirement already satisfied: typing-extensions>=4.12.2 in c:\\users\\sumitsaurabh\\sumit-saurabh\\venv\\lib\\site-packages (from pydantic) (4.12.2)\n",
      "Note: you may need to restart the kernel to use updated packages.\n"
     ]
    },
    {
     "name": "stderr",
     "output_type": "stream",
     "text": [
      "\n",
      "[notice] A new release of pip available: 22.3 -> 25.0.1\n",
      "[notice] To update, run: python.exe -m pip install --upgrade pip\n"
     ]
    }
   ],
   "source": [
    "%pip install pydantic"
   ]
  },
  {
   "cell_type": "code",
   "execution_count": null,
   "metadata": {},
   "outputs": [],
   "source": [
    "from pydantic import BaseModel, constr, Field, field_validator"
   ]
  },
  {
   "cell_type": "markdown",
   "metadata": {},
   "source": [
    "## Type checking\n",
    "Python’s type annotations are a way to hint to the type checker what type of data is expected for a particular variable or function parameter. Pydantic takes this one step further by allowing us to define custom constraints on the given data structures.  \n",
    "To use Pydantic for type checking, we simply create a Pydantic model class and define the fields we need. The type annotations for the fields will specify the expected types.  \n",
    "Pydantic makes type checking easier, faster, and more efficient than manual type checking."
   ]
  },
  {
   "cell_type": "code",
   "execution_count": 4,
   "metadata": {},
   "outputs": [
    {
     "name": "stdout",
     "output_type": "stream",
     "text": [
      "Tester1\n",
      "18\n",
      "Tester1@example.com\n"
     ]
    }
   ],
   "source": [
    "class User(BaseModel):\n",
    "    name: str\n",
    "    age: int\n",
    "    email: str\n",
    "\n",
    "user_data = {\n",
    "    \"name\": \"Tester1\",\n",
    "    \"age\": 18,\n",
    "    \"email\": \"Tester1@example.com\",\n",
    "}\n",
    "\n",
    "user = User.model_validate(user_data)\n",
    "\n",
    "print(user.name)\n",
    "print(user.age)\n",
    "print(user.email)"
   ]
  },
  {
   "cell_type": "markdown",
   "metadata": {},
   "source": [
    "> If we try to create a new User instance with invalid data, Pydantic will raise a `ValidationError` exception."
   ]
  },
  {
   "cell_type": "markdown",
   "metadata": {},
   "source": [
    "## Data validation\n",
    "Pydantic can validate data in a number of ways, including range checking, regular expression matching, uniqueness checking, and custom validation."
   ]
  },
  {
   "cell_type": "markdown",
   "metadata": {},
   "source": [
    "## Range checking\n",
    "Pydantic range checking is a feature that allows us to validate data against a specified range of values. This can be done by using the `Field()` and `constr` class decorators to manage integer value and string length.\n",
    "\n",
    "The `min_length()` and `max_length()` keyword arguments are used for the `constr()` class decorator to define the range of the string length. The `ge` (greater than) and `le` (less than) keyword arguments are used for the `Field()` class decorator to define the integer value bracket.\n",
    "\n",
    "- For String length - `constr()` with `min_length()` and `max_length()` keyword arguments\n",
    "- For Integer - `Field()` with `ge` (greater than) and `le` (less than) keyword arguments\n",
    "\n",
    "> Through these checks, data gathering becomes convenient and we get clean data in the end."
   ]
  },
  {
   "cell_type": "code",
   "execution_count": null,
   "metadata": {},
   "outputs": [],
   "source": [
    "class User(BaseModel):\n",
    "    name: str = constr(min_length=3, max_length=20)\n",
    "    age: int = Field(ge=18, le=68)\n",
    "    email: str"
   ]
  },
  {
   "cell_type": "markdown",
   "metadata": {},
   "source": [
    "## Regular expression matching\n",
    "To use regular expression matching in Pydantic, we can use the `constr()` field type validator. `The constr()` field type validator allows specifying a regular expression pattern that the field value must match using `pattern` keyword argument.  "
   ]
  },
  {
   "cell_type": "code",
   "execution_count": 8,
   "metadata": {},
   "outputs": [],
   "source": [
    "class CheckEmail(BaseModel):\n",
    "  email: str = constr(pattern=r'[a-zA-Z0-9._]@([\\w-]+\\.)+[\\w-]{2,4}')"
   ]
  },
  {
   "cell_type": "markdown",
   "metadata": {},
   "source": [
    "## Uniqueness checking\n",
    "To check for uniqueness in Pydantic, we can use the `field_validator()` decorator. The `field_validator()` decorator allows us to validate the entire model instance rather than just individual fields.  \n",
    "> Using uniqueness checking in Pydantic is a great way to ensure that our data is consistent, accurate, and efficient."
   ]
  },
  {
   "cell_type": "code",
   "execution_count": null,
   "metadata": {},
   "outputs": [],
   "source": [
    "class User(BaseModel):\n",
    "    name: str = Field(unique=True)\n",
    "\n",
    "    __values__ = {}\n",
    "    \n",
    "    def __init__(self, **data):\n",
    "        super().__init__(**data)\n",
    "        self.__values__[self.name] = self\n",
    "\n",
    "    @field_validator(\"name\")\n",
    "    def validate_unique_name(cls, value, **kwargs):\n",
    "        if value in cls.__values__:\n",
    "            raise ValueError(\"Duplicate names are not allowed\")\n",
    "        return value\n",
    "\n",
    "def check_for_duplicates(user_data):\n",
    "    duplicates = []\n",
    "    for name in user_data:\n",
    "        try:\n",
    "            User(name=name)\n",
    "        except ValueError:\n",
    "            duplicates.append(name)\n",
    "    return duplicates\n",
    "\n",
    "user_data = [\"Tester1\", \"Tester1\", \"Tester2\", \"Tester2\"]\n",
    "\n",
    "duplicates = check_for_duplicates(user_data)\n",
    "if duplicates:\n",
    "    print(\"Duplicate names:\")\n",
    "    for name in duplicates:\n",
    "        print(f\"* {name}\")\n",
    "else:\n",
    "    print(\"There are no duplicate names.\")"
   ]
  },
  {
   "cell_type": "markdown",
   "metadata": {},
   "source": [
    "## "
   ]
  },
  {
   "cell_type": "code",
   "execution_count": null,
   "metadata": {},
   "outputs": [],
   "source": []
  },
  {
   "cell_type": "markdown",
   "metadata": {},
   "source": []
  },
  {
   "cell_type": "code",
   "execution_count": null,
   "metadata": {},
   "outputs": [],
   "source": []
  },
  {
   "cell_type": "markdown",
   "metadata": {},
   "source": []
  },
  {
   "cell_type": "code",
   "execution_count": null,
   "metadata": {},
   "outputs": [],
   "source": []
  }
 ],
 "metadata": {
  "kernelspec": {
   "display_name": "venv",
   "language": "python",
   "name": "python3"
  },
  "language_info": {
   "codemirror_mode": {
    "name": "ipython",
    "version": 3
   },
   "file_extension": ".py",
   "mimetype": "text/x-python",
   "name": "python",
   "nbconvert_exporter": "python",
   "pygments_lexer": "ipython3",
   "version": "3.11.0"
  }
 },
 "nbformat": 4,
 "nbformat_minor": 2
}
