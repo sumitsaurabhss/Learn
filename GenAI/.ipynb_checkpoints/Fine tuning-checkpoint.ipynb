{
 "cells": [
  {
   "cell_type": "markdown",
   "id": "cae25b75-a351-4045-81b0-3aab80e1b7e7",
   "metadata": {},
   "source": [
    "# Fine-Tuning\n",
    "Fine-tuning is the process of adapting a pretrained language model to perform specific tasks and use cases by further training it on domain-specific data. It involves training the parameters of a pre-existing LLM on domain-specific data. Utilizing the existing knowledge of the pretrained model along with training on new data allows the model to better understand and respond to specific tasks."
   ]
  },
  {
   "cell_type": "markdown",
   "id": "29d386e1-3f23-49fc-b224-8b2b4356f34b",
   "metadata": {},
   "source": [
    "## How fine-tuning works\n",
    "Fine-tuning involves taking a pretrained model that has learned general patterns from large datasets and adjusting its parameters to fit custom, task-specific datasets.\n",
    "\n",
    "According to our task, we take a dataset smaller than the pretraining data and adjust the model weights to allow it to adapt to the new data. This way, the model refines its existing knowledge and learns the details of the new data. By building on the pretrained model’s knowledge, fine-tuning enables the model to learn more efficiently and accurately.\n",
    "\n",
    " \n",
    "<img src=\"../Images/fine-tune-1.png\" alt=\"Fine-tuning LLM on task-specific dataset\" width=\"750\">"
   ]
  },
  {
   "cell_type": "code",
   "execution_count": null,
   "id": "cf9e0a4d-b5b3-489b-978e-c351312a6897",
   "metadata": {},
   "outputs": [],
   "source": []
  }
 ],
 "metadata": {
  "kernelspec": {
   "display_name": "Python (DS)",
   "language": "python",
   "name": ".env"
  },
  "language_info": {
   "codemirror_mode": {
    "name": "ipython",
    "version": 3
   },
   "file_extension": ".py",
   "mimetype": "text/x-python",
   "name": "python",
   "nbconvert_exporter": "python",
   "pygments_lexer": "ipython3",
   "version": "3.11.0"
  }
 },
 "nbformat": 4,
 "nbformat_minor": 5
}
