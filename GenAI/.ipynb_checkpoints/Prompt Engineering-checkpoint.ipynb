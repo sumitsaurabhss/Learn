{
 "cells": [
  {
   "cell_type": "markdown",
   "id": "9fda1cad-a05f-4647-88f8-1e93398028aa",
   "metadata": {},
   "source": [
    "## Key Principles\n",
    "- Appropraite action verbs to explicitly guide the model's task - Write, Complete, Explain, Describe, Evaluate etc.\n",
    "- Detailed and precise instructions regarding: Context, Output length, Format and style, and Audience\n",
    "- Well-structured delimited prompts"
   ]
  },
  {
   "cell_type": "markdown",
   "id": "8ffd7d28-6fb7-41a1-ac6d-c23d04842497",
   "metadata": {},
   "source": [
    "### Limiting output length\n",
    "max_tokens:\n",
    "- Limit on number of tokens\n",
    "- Output cannot bypass it\n",
    "- Might lead to incomplete or cut responses\n",
    "\n",
    "Prompt:\n",
    "- Limit on words, sentences, or paragraphs\n",
    "- Output may bypass it\n",
    "- Complete responses"
   ]
  },
  {
   "cell_type": "markdown",
   "id": "c199ed40-a99b-41cc-a0fe-e0c1a2f542f9",
   "metadata": {},
   "source": [
    "### Crafting a well-structured prompt with delimiters\n",
    "- Start prompt with instructions\n",
    "- Use delimiters (parantheses, brackets, backticks, etc.) to specify input parts\n",
    "- Mention which delimiters are used"
   ]
  },
  {
   "cell_type": "code",
   "execution_count": null,
   "id": "dc408dea-eabf-431c-a9d2-40c2934b9921",
   "metadata": {},
   "outputs": [],
   "source": [
    "prompt = \"\"\"Summarize the text delimited by triple backticks into bullet points\n",
    "            ```TEXT GOES HERE```\"\"\"\n",
    "\n",
    "# Using formatted strings (f-strings)\n",
    "text = \"Sample Text\"\n",
    "prompt = f\"\"\"Summarize the text delimited by triple backticks into bullet points\n",
    "            ```{text}```\"\"\""
   ]
  },
  {
   "cell_type": "markdown",
   "id": "d91a3db2-f28b-466e-a38e-ed0a4847df86",
   "metadata": {},
   "source": [
    "## Structured outputs\n",
    "LLMs generate structured output only when given explicit instructions.\n",
    "\n",
    "Output structures:\n",
    "- Table\n",
    "- List\n",
    "- Structured paragraph\n",
    "- Custom format"
   ]
  },
  {
   "cell_type": "markdown",
   "id": "9f87e1e2-3210-41fd-a24d-c667c28c4552",
   "metadata": {},
   "source": [
    "### Tables\n",
    "Clearly mention expected columns"
   ]
  },
  {
   "cell_type": "code",
   "execution_count": null,
   "id": "3c44ee8b-4dd4-44b4-a588-7c5b084a888e",
   "metadata": {},
   "outputs": [],
   "source": [
    "prompt = \"Generate a table containing 5 movies I should watch if I am action lover, with columns for Title and Rating.\""
   ]
  },
  {
   "cell_type": "markdown",
   "id": "905b1e34-95a4-4a73-a4a3-c057d3bbce6f",
   "metadata": {},
   "source": [
    "### Lists\n",
    "- Helpful for enumerations\n",
    "- Requirements for numbering should be mentioned in prompt"
   ]
  },
  {
   "cell_type": "code",
   "execution_count": null,
   "id": "0f2cd20d-f881-4967-a895-599f8752b9a3",
   "metadata": {},
   "outputs": [],
   "source": [
    "prompt = \"Generate a list containing the names of the top 5 cities to visit.\"\n",
    "\n",
    "# better\n",
    "prompt = \"Generate an unordered list containing the names of the top 5 cities to visit.\""
   ]
  },
  {
   "cell_type": "markdown",
   "id": "84d36604-ec99-4f81-810f-7e825baf0670",
   "metadata": {},
   "source": [
    "### Structured paragraphs\n",
    "Mention structure requirements in prompt"
   ]
  },
  {
   "cell_type": "code",
   "execution_count": null,
   "id": "8137d12f-b32a-4a48-b4f5-5dee771ea732",
   "metadata": {},
   "outputs": [],
   "source": [
    "prompt = \"Provide a structured paragraph with clear headings and subheadings about the benefits of regular exercise on overall health and well-being.\""
   ]
  },
  {
   "cell_type": "markdown",
   "id": "346b2001-e51d-4bab-8640-76e131cd2dde",
   "metadata": {},
   "source": [
    "### Custom output format\n",
    "- One approach is to break down the prompts into parts."
   ]
  },
  {
   "cell_type": "code",
   "execution_count": null,
   "id": "a1df2974-1eb9-4462-b2f4-d00cfe5d398e",
   "metadata": {},
   "outputs": [],
   "source": [
    "text = \"Once upon a time in a quaint little village, there lived a curious young boy named David. David was [...]\"\n",
    "instructions = \"You will be provided with a text delimited by triple backticks. Generate a suitable title for it. \"\n",
    "\n",
    "output_format = \"\"\"Use the following format for the output:\n",
    "            - Text: <text we want to title>         \n",
    "            - Title: <the generated title>\"\"\"\n",
    "\n",
    "prompt = instructions + output_format + f\"```{text}```\""
   ]
  },
  {
   "cell_type": "markdown",
   "id": "0c765a53-3742-4e52-8d04-77ef9074fec6",
   "metadata": {},
   "source": [
    "### Conditional prompts\n",
    "- Incorporate logic or conditions\n",
    "- Conditional prompts follow an if-else style\n",
    "- Can incorporate multiple conditions"
   ]
  },
  {
   "cell_type": "code",
   "execution_count": null,
   "id": "f2868aee-7d10-4e21-b053-18f9aa817141",
   "metadata": {},
   "outputs": [],
   "source": [
    "prompt = f\"\"\"You will be provided with a text delimited by triple backticks.\n",
    "            If the text is written in English, suggest a suitable title for it.         \n",
    "            Otherwise, write 'I only understand English'.         \n",
    "            ```{text}```\"\"\""
   ]
  },
  {
   "cell_type": "markdown",
   "id": "7ee56f1d-2eff-4213-ab83-3599f4147c1f",
   "metadata": {},
   "source": [
    "## Few-shot prompting\n",
    "Model provided with examples (question-answer pairs)\n",
    "\n",
    "Number of examples:\n",
    "- Zero -> zero-shot prompting\n",
    "    - Providing a prompt without examples\n",
    "    - Model generates responses based on its knowledge\n",
    "    - Ideal for quick and uncomplicated tasks\n",
    "- One -> one-shot prompting\n",
    "    - Provide the model a single example\n",
    "    - Useful for consistent formatting or style\n",
    "- More than one -> few-shot prompting\n",
    "    - Provide more than one example\n",
    "    - Powerful for contextual tasks"
   ]
  },
  {
   "cell_type": "code",
   "execution_count": null,
   "id": "e508e10c-0ea2-42b0-b34f-48230fe64c2a",
   "metadata": {},
   "outputs": [],
   "source": [
    "# zero-shot\n",
    "prompt = \"What is prompt engineering?\"\n",
    "\n",
    "# one-shot\n",
    "prompt =  \"\"\" \n",
    "Q: Sum the numbers 3, 5, and 6. A: The sum of 3, 5, and 6 is 14\n",
    "Q: Sum the numbers 2, 4, and 7. A: \n",
    "\"\"\"\n",
    "\n",
    "# few-shot\n",
    "prompt = \"\"\"\n",
    "Text: Today the weather is fantastic -> Classification: positive\n",
    "Text: The furniture is small -> Classification: neutral\n",
    "Text: I don't like your attitude -> Classification: negative\n",
    "Text: That shot selection was awful -> Classification:\n",
    "\"\"\"\n"
   ]
  },
  {
   "cell_type": "markdown",
   "id": "29f759f8-ea16-4ac9-aa6f-5ed0105069a7",
   "metadata": {},
   "source": [
    "### Considerations\n",
    "Choose number of shots according to taskcomplexity\n",
    "- Fewer shots -> basic tasks\n",
    "- Diverse shots -> complex tasks\n"
   ]
  },
  {
   "cell_type": "markdown",
   "id": "fed0eaea-2145-4c79-b66d-706670eab299",
   "metadata": {},
   "source": [
    "> **A sample approach**:  \n",
    "    - First, Specify the requirements.  \n",
    "    - Then, Specify the format.  \n",
    "    - Write the format structure in generic terms.  \n",
    "    - Give a example of data, how to process data and how to output the result in specified format.  "
   ]
  },
  {
   "cell_type": "code",
   "execution_count": null,
   "id": "1082a22a-e1a8-411c-9352-6033d5618f10",
   "metadata": {},
   "outputs": [],
   "source": [
    "messages = [\n",
    "  {\"role\": \"system\", \"content\": \"\"\"\"\n",
    "  You are a helper tool for a knowedge graph builder application. Your task is to extract entities and relationships from the text provided by the user. \n",
    "  Format the output in such a way that it can be directly parsed into Python lists. \n",
    "  The format should include:\n",
    "  \n",
    "  1. A list of **Entities** in Python list format.\n",
    "  2. A list of **Relationships**, where each relationship is represented as a tuple in the format: (Entity 1, \"Relationship\", Entity 2).\n",
    "  \n",
    "  Here is the format to follow:\n",
    "  \n",
    "  Entities: [\"Entity 1\", \"Entity 2\", ..., \"Entity N\"]\n",
    "  \n",
    "  Relationships: [(\"Entity 1\", \"Relationship\", \"Entity 2\"), ..., (\"Entity X\", \"Relationship\", \"Entity Y\")]\n",
    "  \n",
    "  Example Input:\n",
    "  Extract entities and relationships from the following text:\n",
    "  \"Michael Jackson, born in Gary, Indiana, was a famous singer known as the King of Pop. He passed away in Los Angeles in 2009.\"\n",
    "  \n",
    "  Expected Output:\n",
    "  \n",
    "  Entities: [\"Michael Jackson\", \"Gary, Indiana\", \"Los Angeles\", \"singer\", \"King of Pop\", \"2009\"]\n",
    "  \n",
    "  Relationships: [\n",
    "    (\"Michael Jackson\", \"born in\", \"Gary, Indiana\"), \n",
    "    (\"Michael Jackson\", \"profession\", \"singer\"), \n",
    "    (\"Michael Jackson\", \"referred to as\", \"King of Pop\"), \n",
    "    (\"Michael Jackson\", \"passed away in\", \"Los Angeles\"), \n",
    "    (\"Michael Jackson\", \"date of death\", \"2009\")\n",
    "  ]\n",
    "  \"\"\"},\n",
    "  {\"role\": \"user\", \"content\": f\"Extract entities and relationship tuples from the following text:\\n\\n{text}\\n\\n\"}\n",
    "]"
   ]
  }
 ],
 "metadata": {
  "kernelspec": {
   "display_name": "Python 3 (ipykernel)",
   "language": "python",
   "name": "python3"
  },
  "language_info": {
   "codemirror_mode": {
    "name": "ipython",
    "version": 3
   },
   "file_extension": ".py",
   "mimetype": "text/x-python",
   "name": "python",
   "nbconvert_exporter": "python",
   "pygments_lexer": "ipython3",
   "version": "3.11.0"
  }
 },
 "nbformat": 4,
 "nbformat_minor": 5
}
