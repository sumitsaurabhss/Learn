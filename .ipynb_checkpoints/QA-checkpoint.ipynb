{
 "cells": [
  {
   "cell_type": "markdown",
   "id": "51cc164a-1320-4ab5-873f-db7436f86182",
   "metadata": {},
   "source": [
    "### What is the full form of SAS and SPSS?\n",
    "Ans. SAS-Statistical Analysis System & SPSS-Statistical Package for the Social Sciences"
   ]
  },
  {
   "cell_type": "markdown",
   "id": "9d2f26e0-883b-4f34-8b27-0bc685fcef46",
   "metadata": {},
   "source": [
    "### What is the difference between data science and big data analytics?\n",
    "Ans. Data science is a multidisciplinary blend of data inference, algorithm development,\n",
    "and technology in order to solve analytically complex problems. Big data analytics is the\n",
    "use of advanced analytic techniques against very large, diverse data sets that include\n",
    "structured, semi-structured and unstructured data, from different sources, and in different\n",
    "sizes from terabytes to zettabytes."
   ]
  },
  {
   "cell_type": "markdown",
   "id": "f1e8b143-c8a0-487e-8d67-c8d12086b1a0",
   "metadata": {},
   "source": [
    "#### "
   ]
  }
 ],
 "metadata": {
  "kernelspec": {
   "display_name": "Python 3 (ipykernel)",
   "language": "python",
   "name": "python3"
  },
  "language_info": {
   "codemirror_mode": {
    "name": "ipython",
    "version": 3
   },
   "file_extension": ".py",
   "mimetype": "text/x-python",
   "name": "python",
   "nbconvert_exporter": "python",
   "pygments_lexer": "ipython3",
   "version": "3.11.0"
  }
 },
 "nbformat": 4,
 "nbformat_minor": 5
}
