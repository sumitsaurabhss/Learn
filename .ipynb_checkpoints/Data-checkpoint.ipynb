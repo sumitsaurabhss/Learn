{
 "cells": [
  {
   "cell_type": "markdown",
   "id": "bb1d857b-a982-485f-8db5-8d3f0ae8bb7d",
   "metadata": {},
   "source": [
    "# Data\n",
    "Data is information or statistics collected by various systems (e.g. forms, sensors).\n",
    "\n",
    "### 5 Vs of Data\n",
    "1. Volume: Scale of data\n",
    "2. Velocity: Speed of creation and analysis\n",
    "3. Variety: Different types of data\n",
    "4. Value: Value the data provides\n",
    "5. Veracity: Data's quality and accuracy"
   ]
  },
  {
   "cell_type": "code",
   "execution_count": null,
   "id": "3930bb15-5883-478a-9265-dc96e163f7ae",
   "metadata": {},
   "outputs": [],
   "source": []
  }
 ],
 "metadata": {
  "kernelspec": {
   "display_name": "Python 3 (ipykernel)",
   "language": "python",
   "name": "python3"
  },
  "language_info": {
   "codemirror_mode": {
    "name": "ipython",
    "version": 3
   },
   "file_extension": ".py",
   "mimetype": "text/x-python",
   "name": "python",
   "nbconvert_exporter": "python",
   "pygments_lexer": "ipython3",
   "version": "3.11.0"
  }
 },
 "nbformat": 4,
 "nbformat_minor": 5
}
