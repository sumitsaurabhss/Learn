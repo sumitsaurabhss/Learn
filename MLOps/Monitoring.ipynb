{
 "cells": [
  {
   "cell_type": "markdown",
   "id": "82787121",
   "metadata": {},
   "source": [
    "### Detecting skew and drift\n",
    "**For skew**: set the baseline with stats of the training data\n",
    "\n",
    "**For drift**: set the baseline with the stats of the serving data in the past"
   ]
  },
  {
   "cell_type": "markdown",
   "id": "7f95e35e",
   "metadata": {},
   "source": []
  }
 ],
 "metadata": {
  "kernelspec": {
   "display_name": "venv",
   "language": "python",
   "name": "python3"
  },
  "language_info": {
   "name": "python",
   "version": "3.11.0"
  }
 },
 "nbformat": 4,
 "nbformat_minor": 5
}
