{
 "cells": [
  {
   "cell_type": "markdown",
   "id": "828f8b23-7464-4890-bda2-bd03dd4fd63e",
   "metadata": {},
   "source": [
    "# Machine Learning\n"
   ]
  },
  {
   "cell_type": "markdown",
   "id": "c2142f52-ffc5-497d-bfc2-53d84dd03321",
   "metadata": {},
   "source": [
    "## Basic Priciples of Machine Learning\n",
    "* Learning from data\n",
    "* Identifying Patterns\n",
    "* Making Predictions or Decisions\n",
    "* Improving over time\n",
    "* Generalization"
   ]
  },
  {
   "cell_type": "code",
   "execution_count": null,
   "id": "ac0eb13e-9ca9-46d7-988d-d173a2f05dcc",
   "metadata": {},
   "outputs": [],
   "source": []
  }
 ],
 "metadata": {
  "kernelspec": {
   "display_name": "Python 3 (ipykernel)",
   "language": "python",
   "name": "python3"
  },
  "language_info": {
   "codemirror_mode": {
    "name": "ipython",
    "version": 3
   },
   "file_extension": ".py",
   "mimetype": "text/x-python",
   "name": "python",
   "nbconvert_exporter": "python",
   "pygments_lexer": "ipython3",
   "version": "3.11.0"
  }
 },
 "nbformat": 4,
 "nbformat_minor": 5
}
