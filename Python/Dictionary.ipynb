{
 "cells": [
  {
   "cell_type": "markdown",
   "id": "4f698bc3-f387-4441-9485-e988cae441d9",
   "metadata": {},
   "source": [
    "# Dictionaries\n",
    "Dictionaries are a built-in Python data structure for mapping keys to values.  \n",
    "\n",
    "Values are accessed via square bracket syntax similar to indexing into lists and strings.  \n",
    "We can use the same syntax to add another key, value pair.\n",
    "Or to change the value associated with an existing key."
   ]
  },
  {
   "cell_type": "markdown",
   "id": "6a3ae088-3e99-4a42-afc1-763b4f274b80",
   "metadata": {},
   "source": [
    "Python has dictionary comprehensions with a syntax similar to the list comprehensions.  \n",
    "The `in` operator tells us whether something is a key in the dictionary"
   ]
  },
  {
   "cell_type": "code",
   "execution_count": null,
   "id": "38783433-8cce-48e8-92ce-fee5eaec9c12",
   "metadata": {},
   "outputs": [],
   "source": [
    "planets = ['Mercury', 'Venus', 'Earth', 'Mars', 'Jupiter', 'Saturn', 'Uranus', 'Neptune']\n",
    "planet_to_initial = {planet: planet[0] for planet in planets}\n",
    "\n",
    "'Saturn' in planet_to_initial"
   ]
  },
  {
   "cell_type": "markdown",
   "id": "ba60b066-233d-4bcd-a7ae-c78cfca22f92",
   "metadata": {},
   "source": [
    "A for loop over a dictionary will loop over its keys"
   ]
  },
  {
   "cell_type": "code",
   "execution_count": null,
   "id": "41825660-76e7-4c92-8e73-c17f0c02b766",
   "metadata": {},
   "outputs": [],
   "source": [
    "for k in numbers:\n",
    "    print(\"{} = {}\".format(k, numbers[k]))"
   ]
  },
  {
   "cell_type": "markdown",
   "id": "a0625a34-c938-4b81-897a-323ac9dbe8d6",
   "metadata": {},
   "source": [
    "We can access a collection of all the keys or all the values with dict.keys() and dict.values(), respectively."
   ]
  },
  {
   "cell_type": "code",
   "execution_count": null,
   "id": "db78f031-042a-43b9-bfbd-92574a4932d2",
   "metadata": {},
   "outputs": [],
   "source": [
    "# Get all the initials, sort them alphabetically, and put them in a space-separated string.\n",
    "' '.join(sorted(planet_to_initial.values()))"
   ]
  },
  {
   "cell_type": "markdown",
   "id": "10ad7898-6097-418b-bb1c-2972869b9b6a",
   "metadata": {},
   "source": [
    "The very useful dict.items() method lets us iterate over the keys and values of a dictionary simultaneously. (In Python jargon, an item refers to a key, value pair)"
   ]
  },
  {
   "cell_type": "code",
   "execution_count": null,
   "id": "08f80538-e008-469a-9f82-4cf06c802578",
   "metadata": {},
   "outputs": [],
   "source": [
    "for planet, initial in planet_to_initial.items():\n",
    "    print(\"{} begins with \\\"{}\\\"\".format(planet.rjust(10), initial))"
   ]
  },
  {
   "cell_type": "markdown",
   "id": "99b25951-97bf-466e-bbc3-0006a96c8dfd",
   "metadata": {},
   "source": [
    "> To read a full inventory of dictionaries' methods, click the \"output\" button below to read the full help page, or check out [the official online documentation](https://docs.python.org/3/library/stdtypes.html#dict)."
   ]
  }
 ],
 "metadata": {
  "kernelspec": {
   "display_name": "Python 3 (ipykernel)",
   "language": "python",
   "name": "python3"
  },
  "language_info": {
   "codemirror_mode": {
    "name": "ipython",
    "version": 3
   },
   "file_extension": ".py",
   "mimetype": "text/x-python",
   "name": "python",
   "nbconvert_exporter": "python",
   "pygments_lexer": "ipython3",
   "version": "3.11.0"
  }
 },
 "nbformat": 4,
 "nbformat_minor": 5
}
