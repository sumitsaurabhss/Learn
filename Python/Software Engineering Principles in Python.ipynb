{
 "cells": [
  {
   "cell_type": "markdown",
   "id": "6eff1c2f-e587-4916-88a2-b815009cb5cf",
   "metadata": {},
   "source": [
    "## Modularity"
   ]
  },
  {
   "cell_type": "markdown",
   "id": "9bc906fb-ff4c-44e2-b41c-1dc0ecaf61ff",
   "metadata": {},
   "source": [
    "### Package"
   ]
  },
  {
   "cell_type": "markdown",
   "id": "995fc09b-35de-466f-93d6-04e178531cd3",
   "metadata": {},
   "source": [
    "#### Python Package Index (PyPi)"
   ]
  },
  {
   "cell_type": "markdown",
   "id": "eefd17a7-6546-4e2a-ab88-950e3ad05450",
   "metadata": {},
   "source": [
    "#### Pip Install Packages (pip)"
   ]
  },
  {
   "cell_type": "markdown",
   "id": "302d1e47-9046-48f8-8f42-bf1844a19c15",
   "metadata": {},
   "source": [
    "## Documentation"
   ]
  },
  {
   "cell_type": "markdown",
   "id": "6d4b1dc3-719c-43e9-ba69-fb31442b8905",
   "metadata": {},
   "source": [
    "### Comments"
   ]
  },
  {
   "cell_type": "markdown",
   "id": "1f7b8ec4-97f6-4996-be7f-18a969613e92",
   "metadata": {},
   "source": [
    "### DocStrings"
   ]
  },
  {
   "cell_type": "markdown",
   "id": "07d359aa-c1c0-4775-a3c9-7b4a8fcde4a2",
   "metadata": {},
   "source": [
    "### Self-documenting code"
   ]
  },
  {
   "cell_type": "markdown",
   "id": "e246f63e-dc70-400a-a2ac-3246048891e6",
   "metadata": {},
   "source": [
    "### help()"
   ]
  },
  {
   "cell_type": "markdown",
   "id": "8975ebe5-2fef-45e5-8da2-3ea7adb9de32",
   "metadata": {},
   "source": [
    "#### help() on package"
   ]
  },
  {
   "cell_type": "markdown",
   "id": "f1e1020b-f751-4f1f-a975-471b4ff7b90d",
   "metadata": {},
   "source": [
    "#### help() on method"
   ]
  },
  {
   "cell_type": "markdown",
   "id": "9c579b57-040f-4a86-a142-e31255c32797",
   "metadata": {},
   "source": [
    "#### help() on object"
   ]
  },
  {
   "cell_type": "markdown",
   "id": "4875bec2-e269-4b2d-afa8-9eb7aa1153e9",
   "metadata": {},
   "source": [
    "## Convention"
   ]
  },
  {
   "cell_type": "markdown",
   "id": "4d6be892-33f9-4b6c-88ef-ec12fefcb08e",
   "metadata": {},
   "source": [
    "### Python Enhancement Protocol 8 (PEP 8)"
   ]
  },
  {
   "cell_type": "markdown",
   "id": "9fe29061-b464-4e59-ba38-f7e5542da39a",
   "metadata": {},
   "source": [
    "### pycodestyle package\n",
    "It can check code in multiple files at once and it outputs descriptions of the violations along with information of where to go to fix the issue."
   ]
  },
  {
   "cell_type": "markdown",
   "id": "a24a4198-4615-48c9-9251-4f0d06269eb6",
   "metadata": {},
   "source": [
    "## Testing"
   ]
  },
  {
   "cell_type": "code",
   "execution_count": null,
   "id": "31e2c6b4-bf86-42b0-b243-1e70f8049f0a",
   "metadata": {},
   "outputs": [],
   "source": []
  },
  {
   "cell_type": "markdown",
   "id": "2111e156-7363-4d05-9066-bacda705945b",
   "metadata": {},
   "source": [
    "## Version Control"
   ]
  },
  {
   "cell_type": "markdown",
   "id": "65e3dd14-83fb-4b94-96c5-32e479b7b593",
   "metadata": {},
   "source": []
  },
  {
   "cell_type": "markdown",
   "id": "f805bc8b-f8db-4fbb-9b4c-68ccdc675b42",
   "metadata": {},
   "source": []
  },
  {
   "cell_type": "markdown",
   "id": "efe48580-c21e-414b-a4ad-58938417abd2",
   "metadata": {},
   "source": []
  },
  {
   "cell_type": "markdown",
   "id": "73f49c9b-a63a-4090-ab70-906819bd596c",
   "metadata": {},
   "source": []
  },
  {
   "cell_type": "markdown",
   "id": "4a939480-f3bd-4742-96c3-003d34d75ac6",
   "metadata": {},
   "source": []
  },
  {
   "cell_type": "markdown",
   "id": "f15ef8fe-19a8-4533-8c28-dbb06bfb24fe",
   "metadata": {},
   "source": []
  },
  {
   "cell_type": "markdown",
   "id": "eeaeb419-c464-40a2-946a-a7ae27bbdbac",
   "metadata": {},
   "source": []
  },
  {
   "cell_type": "markdown",
   "id": "c3fb4740-eb63-4576-a663-b23c5ecb9358",
   "metadata": {},
   "source": []
  }
 ],
 "metadata": {
  "kernelspec": {
   "display_name": "Python 3 (ipykernel)",
   "language": "python",
   "name": "python3"
  },
  "language_info": {
   "codemirror_mode": {
    "name": "ipython",
    "version": 3
   },
   "file_extension": ".py",
   "mimetype": "text/x-python",
   "name": "python",
   "nbconvert_exporter": "python",
   "pygments_lexer": "ipython3",
   "version": "3.11.0"
  }
 },
 "nbformat": 4,
 "nbformat_minor": 5
}
