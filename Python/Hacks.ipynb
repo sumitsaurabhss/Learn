{
 "cells": [
  {
   "cell_type": "markdown",
   "id": "c95669b9-bdc6-48bf-ad58-432fa94bba70",
   "metadata": {},
   "source": [
    "Complex Number"
   ]
  },
  {
   "cell_type": "code",
   "execution_count": null,
   "id": "4d84034e-46ee-45cd-a9b9-9c35345b1805",
   "metadata": {},
   "outputs": [],
   "source": [
    "c = 12 + 3j\n",
    "print(c.imag)"
   ]
  },
  {
   "cell_type": "markdown",
   "id": "a733b8c3-c301-4898-a019-b890bb7b4445",
   "metadata": {},
   "source": [
    "`bit_length()` method of numbers returns number of bits necessary to represent the number in binary."
   ]
  },
  {
   "cell_type": "markdown",
   "id": "55f24e0a-9da3-4446-a4f5-d9eaf119bda9",
   "metadata": {},
   "source": [
    "`as_integer_ratio()` method of float objects returns a numerator and a denominator in the form of a tuple."
   ]
  },
  {
   "cell_type": "code",
   "execution_count": null,
   "id": "9b0ad4f1-170e-4021-b8b1-982af9c01e3a",
   "metadata": {},
   "outputs": [],
   "source": [
    "x = 0.125\n",
    "x.as_integer_ratio()"
   ]
  }
 ],
 "metadata": {
  "kernelspec": {
   "display_name": "Python 3 (ipykernel)",
   "language": "python",
   "name": "python3"
  },
  "language_info": {
   "codemirror_mode": {
    "name": "ipython",
    "version": 3
   },
   "file_extension": ".py",
   "mimetype": "text/x-python",
   "name": "python",
   "nbconvert_exporter": "python",
   "pygments_lexer": "ipython3",
   "version": "3.11.0"
  }
 },
 "nbformat": 4,
 "nbformat_minor": 5
}
