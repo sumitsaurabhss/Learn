{
 "cells": [
  {
   "cell_type": "markdown",
   "id": "c95669b9-bdc6-48bf-ad58-432fa94bba70",
   "metadata": {},
   "source": [
    "**Complex Number**"
   ]
  },
  {
   "cell_type": "code",
   "execution_count": null,
   "id": "4d84034e-46ee-45cd-a9b9-9c35345b1805",
   "metadata": {},
   "outputs": [],
   "source": [
    "c = 12 + 3j\n",
    "print(c.imag)"
   ]
  },
  {
   "cell_type": "markdown",
   "id": "a733b8c3-c301-4898-a019-b890bb7b4445",
   "metadata": {},
   "source": [
    "`bit_length()` method of numbers returns number of bits necessary to represent the number in binary."
   ]
  },
  {
   "cell_type": "markdown",
   "id": "55f24e0a-9da3-4446-a4f5-d9eaf119bda9",
   "metadata": {},
   "source": [
    "`as_integer_ratio()` method of float objects returns a numerator and a denominator in the form of a tuple."
   ]
  },
  {
   "cell_type": "code",
   "execution_count": null,
   "id": "9b0ad4f1-170e-4021-b8b1-982af9c01e3a",
   "metadata": {},
   "outputs": [],
   "source": [
    "x = 0.125\n",
    "x.as_integer_ratio()"
   ]
  },
  {
   "cell_type": "markdown",
   "id": "fd66f4a1",
   "metadata": {},
   "source": [
    "**Nested else in list comprehension**"
   ]
  },
  {
   "cell_type": "code",
   "execution_count": 1,
   "id": "35d29fdd",
   "metadata": {},
   "outputs": [
    {
     "data": {
      "text/plain": [
       "['fizzbuzz',\n",
       " 1,\n",
       " 2,\n",
       " 'fizz',\n",
       " 4,\n",
       " 'buzz',\n",
       " 'fizz',\n",
       " 7,\n",
       " 8,\n",
       " 'fizz',\n",
       " 'buzz',\n",
       " 11,\n",
       " 'fizz',\n",
       " 13,\n",
       " 14,\n",
       " 'fizzbuzz',\n",
       " 16,\n",
       " 17,\n",
       " 'fizz',\n",
       " 19,\n",
       " 'buzz']"
      ]
     },
     "execution_count": 1,
     "metadata": {},
     "output_type": "execute_result"
    }
   ],
   "source": [
    "['fizzbuzz' if n%15==0 else 'fizz' if n%3==0 else 'buzz' if n%5==0 else n for n in range(21)]"
   ]
  },
  {
   "cell_type": "markdown",
   "id": "cc8fe4bb",
   "metadata": {},
   "source": [
    "**lambda**"
   ]
  },
  {
   "cell_type": "code",
   "execution_count": 2,
   "id": "867aa81c",
   "metadata": {},
   "outputs": [
    {
     "data": {
      "text/plain": [
       "['one', 'two', 'three']"
      ]
     },
     "execution_count": 2,
     "metadata": {},
     "output_type": "execute_result"
    }
   ],
   "source": [
    "dictNum = {'one': 1, 'three': 3, 'two': 2}\n",
    "sorted(dictNum, key = lambda x: dictNum[x])"
   ]
  },
  {
   "cell_type": "markdown",
   "id": "fb04b96e",
   "metadata": {},
   "source": [
    "To find prime number faster,  \n",
    "-> make a list of prime numbers found  \n",
    "-> check the division with the prime numbers in the list until $\\sqrt{number}$  "
   ]
  },
  {
   "cell_type": "markdown",
   "id": "1dd4d292",
   "metadata": {},
   "source": [
    "Sometimes we need to put a comma after a value in a `tuple` if the tuple has a single value to show python that it's a tuple.  \n",
    "`(1,)`"
   ]
  },
  {
   "cell_type": "code",
   "execution_count": null,
   "id": "aed2ad22",
   "metadata": {},
   "outputs": [],
   "source": []
  }
 ],
 "metadata": {
  "kernelspec": {
   "display_name": "venv",
   "language": "python",
   "name": "python3"
  },
  "language_info": {
   "codemirror_mode": {
    "name": "ipython",
    "version": 3
   },
   "file_extension": ".py",
   "mimetype": "text/x-python",
   "name": "python",
   "nbconvert_exporter": "python",
   "pygments_lexer": "ipython3",
   "version": "3.11.0"
  }
 },
 "nbformat": 4,
 "nbformat_minor": 5
}
