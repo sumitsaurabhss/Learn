{
 "cells": [
  {
   "cell_type": "markdown",
   "id": "9d030935",
   "metadata": {},
   "source": [
    "# OOPS"
   ]
  },
  {
   "cell_type": "code",
   "execution_count": null,
   "id": "e3213305",
   "metadata": {},
   "outputs": [
    {
     "name": "stdout",
     "output_type": "stream",
     "text": [
      "2\n",
      "5\n",
      "25\n"
     ]
    }
   ],
   "source": [
    "class Class:\n",
    "    def __init__(self, value):\n",
    "        self._attribute = value\n",
    "\n",
    "    # getter and setters using defined method\n",
    "    def get_value(self):\n",
    "        return self._attribute\n",
    "\n",
    "    def set_value(self, value):\n",
    "        self._attribute = value if value > 0 else 0\n",
    "\n",
    "    # getter and setter using decorator\n",
    "    @property\n",
    "    def attribute(self):\n",
    "        return self._attribute\n",
    "\n",
    "    @attribute.setter\n",
    "    def attribute(self, value):\n",
    "        self._attribute = value if value > 0 else 0\n",
    "\n",
    "\n",
    "# Inheritance\n",
    "class Subclass(Class):\n",
    "    def __init__(self, value):\n",
    "        super().__init__(value)\n",
    "\n",
    "# instance = Class(2)\n",
    "# print(instance._attribute)\n",
    "# instance.set_value(5)\n",
    "# print(instance.get_value())\n",
    "# instance.attribute = 25\n",
    "# print(instance.attribute)\n"
   ]
  },
  {
   "cell_type": "markdown",
   "id": "4685f122",
   "metadata": {},
   "source": [
    "## Class types\n"
   ]
  },
  {
   "cell_type": "markdown",
   "id": "44ce3b7d",
   "metadata": {},
   "source": [
    "### Base Class"
   ]
  },
  {
   "cell_type": "markdown",
   "id": "e1099526",
   "metadata": {},
   "source": [
    "### Subclass"
   ]
  },
  {
   "cell_type": "markdown",
   "id": "c336015e",
   "metadata": {},
   "source": [
    "### Abstract Class\n",
    "- No instance can be created\n",
    "- Can only be inherited in other class\n",
    "- Enforces constraint to implement methods in subclass"
   ]
  },
  {
   "cell_type": "code",
   "execution_count": 1,
   "id": "d2af607a",
   "metadata": {},
   "outputs": [],
   "source": [
    "from abc import ABC, abstractmethod\n",
    "\n",
    "class AbstractClass(ABC):\n",
    "    def __init__(self):\n",
    "        super().__init__()\n",
    "\n",
    "    @abstractmethod\n",
    "    def an_abstract_method():\n",
    "        pass"
   ]
  },
  {
   "cell_type": "markdown",
   "id": "1b34e863",
   "metadata": {},
   "source": [
    "### Interface"
   ]
  },
  {
   "cell_type": "markdown",
   "id": "b14ad8ba",
   "metadata": {},
   "source": [
    "### Instance method\n",
    "- method definition contains `self` as the first parameter to reference an instance of the class. The `self` parameter can be named anything, but using `self` as the name is a standard practice.\n",
    "- called using dot operator on an instance and a reference to the instance is passed as the first argument of the method."
   ]
  },
  {
   "cell_type": "markdown",
   "id": "b5deaaf2",
   "metadata": {},
   "source": [
    "### Static method\n"
   ]
  },
  {
   "cell_type": "markdown",
   "id": "45f1bbdd",
   "metadata": {},
   "source": [
    "### static attribute\n",
    "- variable declared directly in a class\n",
    "- can be accessed by both using class and its instance using dot operator.\n",
    "- value changed using class reflects on all instance variables created using that static attribute, unless modified after creation\n",
    "- value changed using instance changes values only for that instance"
   ]
  },
  {
   "cell_type": "code",
   "execution_count": null,
   "id": "a9dfead5",
   "metadata": {},
   "outputs": [
    {
     "name": "stdout",
     "output_type": "stream",
     "text": [
      "self: <__main__.Class object at 0x00000230B847D650>\n",
      "a.var: 2\n",
      "Class.var: 2\n",
      "self: <__main__.Class object at 0x00000230B7F18290>\n",
      "a.var: 5\n",
      "b.var: 2\n",
      "Class.var: 2\n",
      "self: <__main__.Class object at 0x00000230B7F3C990>\n",
      "a.var: 5\n",
      "b.var: 1\n",
      "c.var: 1\n",
      "Class.var: 1\n"
     ]
    }
   ],
   "source": [
    "class Class:\n",
    "    var = 2\n",
    "    def __init__(self):\n",
    "        att = Class.var\n",
    "\n",
    "a = Class()\n",
    "print(f'a.var: {a.var}')\n",
    "print(f'Class.var: {Class.var}')\n",
    "a.var = 5\n",
    "b = Class()\n",
    "print(f'a.var: {a.var}')\n",
    "print(f'b.var: {b.var}')\n",
    "print(f'Class.var: {Class.var}')\n",
    "# b.var = 3\n",
    "Class.var = 1\n",
    "c = Class()\n",
    "print(f'a.var: {a.var}')\n",
    "print(f'b.var: {b.var}')\n",
    "print(f'c.var: {c.var}')\n",
    "print(f'Class.var: {Class.var}')\n"
   ]
  },
  {
   "cell_type": "markdown",
   "id": "67af11c3",
   "metadata": {},
   "source": [
    "### Instance attribute\n",
    "variables declared in `__init__` method of a class using `self`."
   ]
  },
  {
   "cell_type": "markdown",
   "id": "2d8a0394",
   "metadata": {},
   "source": [
    "## Inheritance"
   ]
  },
  {
   "cell_type": "markdown",
   "id": "ce2b86da",
   "metadata": {},
   "source": [
    "## Composition"
   ]
  },
  {
   "cell_type": "markdown",
   "id": "2b1630e6",
   "metadata": {},
   "source": [
    "## Aggregation"
   ]
  }
 ],
 "metadata": {
  "kernelspec": {
   "display_name": "Python 3",
   "language": "python",
   "name": "python3"
  },
  "language_info": {
   "codemirror_mode": {
    "name": "ipython",
    "version": 3
   },
   "file_extension": ".py",
   "mimetype": "text/x-python",
   "name": "python",
   "nbconvert_exporter": "python",
   "pygments_lexer": "ipython3",
   "version": "3.11.0"
  }
 },
 "nbformat": 4,
 "nbformat_minor": 5
}
