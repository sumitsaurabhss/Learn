{
 "cells": [
  {
   "cell_type": "markdown",
   "id": "bd54a238-d062-4ba9-9e8f-423025a1ffe9",
   "metadata": {},
   "source": [
    "# Tuple\n",
    "Tuples are almost exactly the same as lists. They differ in just two ways.\n",
    "1. The syntax for creating them uses parentheses instead of square brackets\n",
    "2. They cannot be modified (they are immutable).\n",
    "\n",
    "Tuples are often used for functions that have multiple return values."
   ]
  }
 ],
 "metadata": {
  "kernelspec": {
   "display_name": "Python 3 (ipykernel)",
   "language": "python",
   "name": "python3"
  },
  "language_info": {
   "codemirror_mode": {
    "name": "ipython",
    "version": 3
   },
   "file_extension": ".py",
   "mimetype": "text/x-python",
   "name": "python",
   "nbconvert_exporter": "python",
   "pygments_lexer": "ipython3",
   "version": "3.11.0"
  }
 },
 "nbformat": 4,
 "nbformat_minor": 5
}
