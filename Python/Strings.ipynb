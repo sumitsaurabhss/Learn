{
 "cells": [
  {
   "cell_type": "markdown",
   "id": "db207811-dd46-4089-9343-4c2c19d3c76f",
   "metadata": {},
   "source": [
    "# Strings\n",
    "Strings in Python can be defined using either single or double quotations. They are functionally equivalent. Double quotes are convenient if the string contains a single quote character (e.g. representing an apostrophe). Similarly, it's easy to create a string that contains double-quotes if wrapped in single quotes.\n",
    "\n",
    "Python's triple quote syntax for strings lets us include newlines literally (i.e. by just hitting 'Enter' on our keyboard, rather than using the special '\\n' sequence)."
   ]
  },
  {
   "cell_type": "markdown",
   "id": "97fa749d-fbe7-4f58-b88f-f6ee0f693954",
   "metadata": {},
   "source": [
    "> The print() function automatically adds a newline character unless we specify a value for the keyword argument end other than the default value of '\\n'"
   ]
  },
  {
   "cell_type": "code",
   "execution_count": null,
   "id": "0465cdf8-ac43-4685-a5b0-e9b7f26bd63e",
   "metadata": {},
   "outputs": [],
   "source": [
    "print(\"hello\", end='')\n",
    "print(\"world\")"
   ]
  },
  {
   "cell_type": "markdown",
   "id": "291d4b19-1626-46e8-a987-68fe53e4857e",
   "metadata": {},
   "source": [
    "## Strings are sequences\n",
    "Strings can be thought of as sequences of characters. Almost everything that we can do to a list, we can also do to a string.  \n",
    "But a major way in which they differ from lists is that they are immutable. We can't modify them."
   ]
  },
  {
   "cell_type": "markdown",
   "id": "907ef64c-aebd-4d04-be73-24fdca728f06",
   "metadata": {},
   "source": [
    "## String Methods\n"
   ]
  },
  {
   "cell_type": "code",
   "execution_count": null,
   "id": "ae0f0ad3-5dec-4238-bbdb-7ef54ebe1c30",
   "metadata": {},
   "outputs": [],
   "source": [
    "# ALL CAPS\n",
    "claim = \"Pluto is a planet!\"\n",
    "claim.upper()\n",
    "\n",
    "# all lowercase\n",
    "claim.lower()\n",
    "\n",
    "# Searching for the first index of a substring\n",
    "claim.index('plan')\n",
    "\n",
    "claim.startswith(planet)\n",
    "\n",
    "# false because of missing exclamation mark\n",
    "claim.endswith('planet')"
   ]
  },
  {
   "cell_type": "markdown",
   "id": "7e235116-bbcb-43f7-8a43-8a85452c62fe",
   "metadata": {},
   "source": [
    "## Going between strings and lists: .split() and .join()\n",
    "str.split() turns a string into a list of smaller strings, breaking on whitespace by default. This is super useful for taking you from one big string to a list of words.\n",
    "\n",
    "str.join() takes us in the other direction, sewing a list of strings up into one long string, using the string it was called on as a separator."
   ]
  },
  {
   "cell_type": "code",
   "execution_count": null,
   "id": "ba99395a-66a8-4738-8dee-d040c9c68eb6",
   "metadata": {},
   "outputs": [],
   "source": [
    "words = claim.split()\n",
    "words\n",
    "\n",
    "# Occasionally you'll want to split on something other than whitespace\n",
    "datestr = '1956-01-31'\n",
    "year, month, day = datestr.split('-')\n",
    "\n",
    "\n",
    "'/'.join([month, day, year])\n",
    "\n",
    "# Yes, we can put unicode characters right in our string literals :)\n",
    "' 👏 '.join([word.upper() for word in words])"
   ]
  },
  {
   "cell_type": "markdown",
   "id": "3ea54987-7be6-483a-9b45-ea1400f64036",
   "metadata": {},
   "source": [
    "Python lets us concatenate strings with the + operator.  \n",
    "If we want to throw in any non-string objects, we have to be careful to call str() on them first."
   ]
  },
  {
   "cell_type": "code",
   "execution_count": null,
   "id": "019f0dd7-8833-4109-addc-0eeb9849d637",
   "metadata": {},
   "outputs": [],
   "source": [
    "planet = \"Pluto\"\n",
    "position = 9\n",
    "# Error\n",
    "# planet + \", you'll always be the \" + position + \"th planet to me.\"\n",
    "\n",
    "planet + \", you'll always be the \" + str(position) + \"th planet to me.\""
   ]
  },
  {
   "cell_type": "markdown",
   "id": "40ced88c-80ba-4291-af10-23f564fbc43a",
   "metadata": {},
   "source": [
    "## Building strings with .format()\n",
    "We call .format() on a \"format string\", where the Python values we want to insert are represented with {} placeholders.\n",
    "\n",
    "We don't even have to call str() to convert position from an int. format() takes care of that for us.\n",
    "\n",
    "[pyformat.info](https://pyformat.info/) and [the official docs](https://docs.python.org/3/library/string.html#formatstrings) for further reading"
   ]
  },
  {
   "cell_type": "code",
   "execution_count": null,
   "id": "9d2b25c0-3f91-4591-868b-4156b5dc6e72",
   "metadata": {},
   "outputs": [],
   "source": [
    "\"{}, you'll always be the {}th planet to me.\".format(planet, position)\n",
    "\n",
    "\n",
    "pluto_mass = 1.303 * 10**22\n",
    "earth_mass = 5.9722 * 10**24\n",
    "population = 52910390\n",
    "#         2 decimal points   3 decimal points, format as percent     separate with commas\n",
    "\"{} weighs about {:.2} kilograms ({:.3%} of Earth's mass). It is home to {:,} Plutonians.\".format(\n",
    "    planet, pluto_mass, pluto_mass / earth_mass, population,\n",
    ")\n",
    "\n",
    "\n",
    "# Referring to format() arguments by index, starting from 0\n",
    "s = \"\"\"Pluto's a {0}.\n",
    "No, it's a {1}.\n",
    "{0}!\n",
    "{1}!\"\"\".format('planet', 'dwarf planet')\n",
    "print(s)"
   ]
  },
  {
   "cell_type": "code",
   "execution_count": null,
   "id": "97dc66b2-05f0-467a-99a0-7626b2ef6ee0",
   "metadata": {},
   "outputs": [],
   "source": []
  }
 ],
 "metadata": {
  "kernelspec": {
   "display_name": "Python 3 (ipykernel)",
   "language": "python",
   "name": "python3"
  },
  "language_info": {
   "codemirror_mode": {
    "name": "ipython",
    "version": 3
   },
   "file_extension": ".py",
   "mimetype": "text/x-python",
   "name": "python",
   "nbconvert_exporter": "python",
   "pygments_lexer": "ipython3",
   "version": "3.11.0"
  }
 },
 "nbformat": 4,
 "nbformat_minor": 5
}
