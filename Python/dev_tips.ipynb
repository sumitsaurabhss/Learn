{
 "cells": [
  {
   "cell_type": "markdown",
   "id": "f1983e23",
   "metadata": {},
   "source": [
    "`**\\# noqa: F841**` is a comment used in Python code to instruct linters like Flake8 or Ruff to ignore the \"F841\" error code on that specific line. The \"F841\" eror indicates an unused local variable. By adding this comment, developers can intentionally bypass the warning when a variable is defined but not used within the code. \n",
    "\n",
    "Often useful in situattions such as debugging, testing, or when a variable is temporarily kept for future use."
   ]
  },
  {
   "cell_type": "code",
   "execution_count": null,
   "id": "573ee61e",
   "metadata": {},
   "outputs": [],
   "source": [
    "def my_function():\n",
    "    x = 10 # noqa: F841"
   ]
  },
  {
   "cell_type": "markdown",
   "id": "0fedce66",
   "metadata": {},
   "source": [
    " \\# noqa: F401\n",
    " \\# noqa: F811"
   ]
  },
  {
   "cell_type": "markdown",
   "id": "45535b19",
   "metadata": {},
   "source": [
    "> If a file name has whitespaces in its name. To use in a terminal either use a `''` or `\"\"` around the file name or, use `\\` before every whitespace.  \n",
    "`'tips and tricks.txt'` or,  \n",
    "`tips\\ and\\ tricks.txt` "
   ]
  }
 ],
 "metadata": {
  "kernelspec": {
   "display_name": "Python 3",
   "language": "python",
   "name": "python3"
  },
  "language_info": {
   "name": "python",
   "version": "3.11.0"
  }
 },
 "nbformat": 4,
 "nbformat_minor": 5
}
