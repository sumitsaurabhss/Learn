{
 "cells": [
  {
   "cell_type": "markdown",
   "id": "cec4ef1f-e5cd-4a1c-9116-73ffeea919cc",
   "metadata": {},
   "source": [
    "# Python\n",
    "* Supports multiple programming paradigm:\n",
    "  - Functional\n",
    "  - Structural\n",
    "  - OOPs\n",
    "* Dynamic Typing:\n",
    "  - Runtime type safety checks.\n",
    "  - Save compilation time.\n",
    "  - Less verbose offering more readability\n",
    "* Reference counts: Deallocates objects which are not used for long.\n",
    "* Late binding: Methods are looked up by name during runtime.\n",
    "* Python’s design is guided by 20 aphorisms as described in Zen of Python by Tim Peters\n",
    "* Standard CPython interpreter is managed by “Python Software Foundation”\n",
    "* There are other interpreters namely JPython (Java), Iron Python (C#), Stackless Python (C, used for parallelism), PyPy (Python itself JIT compilation)\n",
    "* Standard libraries are written in python itself"
   ]
  },
  {
   "cell_type": "markdown",
   "id": "05e932b5-67c4-4cb8-8fcf-c4c8049bbf17",
   "metadata": {},
   "source": [
    "## Setting working directory\n",
    "__Using os module__\n",
    "```\n",
    "import os\n",
    "os.chdir('C:/Users/DELL/Desktop')\n",
    "```\n",
    "\n",
    "__Using command__\n",
    "```\n",
    "cd C:/Users/DELL/Desktop\n",
    "```"
   ]
  },
  {
   "cell_type": "markdown",
   "id": "cc69a60e-e9c5-4140-8b78-a1bf2a3aca52",
   "metadata": {},
   "source": [
    "## Variables\n",
    "Variable name points to a memory address or a storage location and used to reference the stored value."
   ]
  },
  {
   "cell_type": "code",
   "execution_count": 1,
   "id": "7273f59a-3c6b-4b34-a4ab-7f83fdc67ed0",
   "metadata": {},
   "outputs": [
    {
     "name": "stdout",
     "output_type": "stream",
     "text": [
      "10 a 80 28 18\n"
     ]
    }
   ],
   "source": [
    "# Declare variables\n",
    "a = 10\n",
    "b = 'a'\n",
    "num1, num2, num3 = 80, 28, 18\n",
    "print(a,b, num1, num2, num3)"
   ]
  },
  {
   "cell_type": "code",
   "execution_count": 3,
   "id": "59756677-539d-4800-a853-e4f15522bb62",
   "metadata": {},
   "outputs": [
    {
     "name": "stdout",
     "output_type": "stream",
     "text": [
      "<class 'int'> True\n"
     ]
    }
   ],
   "source": [
    "# Type of variables: str, int, float, bool, complex\n",
    "type_a = type(a)\n",
    "type_b = type(b) is str\n",
    "print(type_a, type_b)"
   ]
  },
  {
   "cell_type": "code",
   "execution_count": 4,
   "id": "6a6d29e6-67da-403b-9373-7234a43ecba0",
   "metadata": {},
   "outputs": [
    {
     "data": {
      "text/plain": [
       "int"
      ]
     },
     "execution_count": 4,
     "metadata": {},
     "output_type": "execute_result"
    }
   ],
   "source": [
    "# Coerce object to different datatype: datatype(object) -> store in same or diff variable\n",
    "age = '18'\n",
    "age = int(age)\n",
    "type(age)"
   ]
  },
  {
   "cell_type": "code",
   "execution_count": 3,
   "id": "d14e8abd-cee8-44e0-9d74-d96bfcc8471d",
   "metadata": {},
   "outputs": [
    {
     "ename": "NameError",
     "evalue": "name 'a' is not defined",
     "output_type": "error",
     "traceback": [
      "\u001b[1;31m---------------------------------------------------------------------------\u001b[0m",
      "\u001b[1;31mNameError\u001b[0m                                 Traceback (most recent call last)",
      "Cell \u001b[1;32mIn[3], line 3\u001b[0m\n\u001b[0;32m      1\u001b[0m \u001b[38;5;66;03m# Delete variables\u001b[39;00m\n\u001b[0;32m      2\u001b[0m \u001b[38;5;28;01mdel\u001b[39;00m a, b\n\u001b[1;32m----> 3\u001b[0m \u001b[43ma\u001b[49m\n",
      "\u001b[1;31mNameError\u001b[0m: name 'a' is not defined"
     ]
    }
   ],
   "source": [
    "# Delete variables\n",
    "del a, b\n",
    "a"
   ]
  },
  {
   "cell_type": "code",
   "execution_count": 6,
   "id": "b7fc6acd-2655-4f34-a652-a631b1e62600",
   "metadata": {},
   "outputs": [],
   "source": [
    "# Getting Help\n",
    "# import os\n",
    "# content = dir(os)\n",
    "# content"
   ]
  },
  {
   "cell_type": "code",
   "execution_count": null,
   "id": "3a067e4b-18de-4835-80ec-60611431288b",
   "metadata": {},
   "outputs": [],
   "source": [
    "x = 12\n",
    "# x is a real number, so its imaginary part is 0.\n",
    "print(x.imag)\n",
    "# Here's how to make a complex number:\n",
    "c = 12 + 3j\n",
    "print(c.imag)"
   ]
  },
  {
   "cell_type": "code",
   "execution_count": null,
   "id": "c7cf7739-a3d8-4553-9936-a27a40904bc6",
   "metadata": {},
   "outputs": [],
   "source": [
    "help(x.bit_length)"
   ]
  },
  {
   "cell_type": "markdown",
   "id": "6b03d6ff-df94-4e04-b07c-3929ee1e9d55",
   "metadata": {},
   "source": [
    "## Operators\n",
    "Arithmetic: mathematical operations - (+, -, *, /, //, %)\n",
    "Assignment: assign values - (=, +=, -=, *=, /=)\n",
    "Relational/Comparison: compare values - (<, <=, >, >=, ==, !=)\n",
    "Logical:  operates on conditional statement, designed to work with scalars or boolean values - (or, and, not)\n",
    "Bitwise: operates bit by bit for integer operands, can work on conditional statements which compare scalar values or arrays (|, &)\n",
    "\n",
    "Precedence: Arithemetic -> Bitwise(& > |) -> Relational -> Logical(not > and > or)"
   ]
  },
  {
   "cell_type": "markdown",
   "id": "71380790-57b7-425c-a7f9-6ec59818e5dc",
   "metadata": {},
   "source": [
    "## Loops\n",
    "The for loop specifies\n",
    "\n",
    "the variable name to use  \n",
    "the set of values to loop over  \n",
    "the word \"in\" link them together.\n",
    "\n",
    "The object to the right of the \"in\" can be any object that supports iteration.\n",
    "\n",
    "range()  \n",
    "range() is a function that returns a sequence of numbers. It turns out to be very useful for writing loops.\n",
    "\n",
    "while loops\n",
    "The other type of loop in Python is a while loop, which iterates until some condition is met. The argument of the while loop is evaluated as a boolean statement, and the loop is executed until the statement evaluates to False."
   ]
  },
  {
   "cell_type": "markdown",
   "id": "3bc981f4-6431-47e1-bd51-ef7a8a5aa84a",
   "metadata": {},
   "source": [
    "### Loop with else\n",
    "If `else` is used with a loop, the else block will only run if loop completes successfully and no `break` is encountered.\n",
    "\n",
    "```python\n",
    "# for ... else\n",
    "for ...:\n",
    "    if ...:\n",
    "        break\n",
    "else:\n",
    "    ...\n",
    "\n",
    "# while ... else\n",
    "while...:\n",
    "    if ...:\n",
    "        break\n",
    "else:\n",
    "    ..."
   ]
  },
  {
   "cell_type": "markdown",
   "id": "a6af6ffd-856c-4865-b7f1-7eca32dc7a40",
   "metadata": {},
   "source": []
  }
 ],
 "metadata": {
  "kernelspec": {
   "display_name": "Python 3 (ipykernel)",
   "language": "python",
   "name": "python3"
  },
  "language_info": {
   "codemirror_mode": {
    "name": "ipython",
    "version": 3
   },
   "file_extension": ".py",
   "mimetype": "text/x-python",
   "name": "python",
   "nbconvert_exporter": "python",
   "pygments_lexer": "ipython3",
   "version": "3.11.0"
  }
 },
 "nbformat": 4,
 "nbformat_minor": 5
}
