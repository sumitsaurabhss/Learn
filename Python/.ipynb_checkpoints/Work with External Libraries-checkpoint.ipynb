{
 "cells": [
  {
   "cell_type": "markdown",
   "id": "e928800c-c471-4bbf-9300-a81d42dd79fc",
   "metadata": {},
   "source": [
    "## Imports\n",
    "One of the best things about Python is the vast number of high-quality custom libraries that have been written for it.\n",
    "\n",
    "Some of these libraries are in the \"standard library\", meaning you can find them anywhere you run Python. Other libraries can be easily added, even if they aren't always shipped with Python.\n",
    "\n",
    "Either way, we'll access this code with imports."
   ]
  },
  {
   "cell_type": "markdown",
   "id": "f42c5311-05f6-4f6c-8cf0-e45320f4423a",
   "metadata": {},
   "source": [
    "## math\n",
    "math is a module. A module is just a collection of variables (a namespace, if you like) defined by someone else. We can see all the names in math using the built-in function dir()  \n",
    "\n",
    "- If we know we'll be using functions in math frequently we can import it under a shorter alias to save some typing\n",
    "- import * makes all the module's variables directly accessible to you (without any dotted prefix).\n",
    "- A good compromise is to import only the specific things we'll need from each module to avoid conflict among methods with same name from different modules."
   ]
  },
  {
   "cell_type": "code",
   "execution_count": null,
   "id": "419c9260-9ec2-4098-9183-87222d5259bd",
   "metadata": {},
   "outputs": [],
   "source": [
    "import math as mt\n",
    "\n",
    "# is equivalent to\n",
    "# import math\n",
    "# mt = math\n",
    "\n",
    "print(dir(math))\n",
    "\n",
    "\n",
    "# to refer to all the variables in the math module by themselves\n",
    "# from math import *"
   ]
  },
  {
   "cell_type": "markdown",
   "id": "612a8b00-8083-4b7e-a935-53df7cb40b2f",
   "metadata": {},
   "source": [
    "> We can call help() on both math module itself and its methods."
   ]
  },
  {
   "cell_type": "markdown",
   "id": "2fc2992c-954a-4f38-b221-6d9d540e017f",
   "metadata": {},
   "source": [
    "### Submodules\n",
    "Modules contain variables which can refer to functions or values. But they can also have variables referring to other modules."
   ]
  },
  {
   "cell_type": "code",
   "execution_count": null,
   "id": "7c31aeba-500e-49ff-bd28-04c093d85af7",
   "metadata": {},
   "outputs": [],
   "source": [
    "import numpy\n",
    "print(\"numpy.random is a\", type(numpy.random))\n",
    "print(\"it contains names such as...\",\n",
    "      dir(numpy.random)[-15:]\n",
    "     )"
   ]
  },
  {
   "cell_type": "markdown",
   "id": "81e92ffb-ea3b-4483-9bd6-a2d6a78814f5",
   "metadata": {},
   "source": [
    "So if we import numpy as above, then calling a function in the random \"submodule\" will require two dots."
   ]
  },
  {
   "cell_type": "code",
   "execution_count": null,
   "id": "81e5ac4a-059b-4b24-935f-14fe349dcf24",
   "metadata": {},
   "outputs": [],
   "source": [
    "# Roll 10 dice\n",
    "rolls = numpy.random.randint(low=1, high=6, size=10)\n",
    "rolls"
   ]
  },
  {
   "cell_type": "markdown",
   "id": "1403cfdb-a171-4f03-8f65-fa4e07525ab8",
   "metadata": {},
   "source": [
    "> As you work with various libraries for specialized tasks, you'll find that they define their own types which you'll have to learn to work with. For example, if you work with the graphing library matplotlib, you'll be coming into contact with objects it defines which represent Subplots, Figures, TickMarks, and Annotations. pandas functions will give you DataFrames and Series."
   ]
  },
  {
   "cell_type": "markdown",
   "id": "8e012a83-b2c9-4aa7-85d0-4b6b1f806126",
   "metadata": {},
   "source": [
    "## Three tools for understanding strange objects\n",
    "1. `type()` (what is this thing?)\n",
    "2. `dir()` (what can I do with it?)\n",
    "3. `help()` (tell me more)"
   ]
  },
  {
   "cell_type": "code",
   "execution_count": null,
   "id": "7d156798-2279-4bee-8b80-4aabda851438",
   "metadata": {},
   "outputs": [],
   "source": [
    "print(type(rolls))\n",
    "print(dir(rolls))\n",
    "help(rolls.ravel)"
   ]
  },
  {
   "cell_type": "markdown",
   "id": "25c6e13c-d52f-4f1a-8194-772c1a364d8d",
   "metadata": {},
   "source": [
    "### Operator overloading\n",
    "We might think that Python strictly polices how pieces of its core syntax behave such as +, <, in, ==, or square brackets for indexing and slicing. But in fact, it takes a very hands-off approach. When you define a new type, you can choose how addition works for it, or what it means for an object of that type to be equal to something else.\n",
    "\n",
    "The designers of lists decided that adding them to numbers wasn't allowed. The designers of numpy arrays went a different way (adding the number to each element of the array).\n",
    "\n",
    "Here are a few more examples of how numpy arrays interact unexpectedly with Python operators (or at least differently from lists)."
   ]
  },
  {
   "cell_type": "code",
   "execution_count": null,
   "id": "3b359acb-cef3-4a6d-986b-e3f171f997d8",
   "metadata": {},
   "outputs": [],
   "source": [
    "rolls + 10\n",
    "\n",
    "# At which indices are the dice less than or equal to 3?\n",
    "rolls <= 3\n",
    "\n",
    "xlist = [[1,2,3],[2,4,6],]\n",
    "# Create a 2-dimensional array\n",
    "x = numpy.asarray(xlist)\n",
    "print(\"xlist = {}\\nx =\\n{}\".format(xlist, x))\n",
    "\n",
    "# Get the last element of the second row of our numpy array\n",
    "x[1,-1]\n",
    "\n",
    "# Get the last element of the second sublist of our nested list: Error\n",
    "# xlist[1,-1]\n",
    "\n",
    "# numpy's ndarray type is specialized for working with multi-dimensional data, so it defines its own logic for indexing, allowing us to index by a tuple to specify the index at each dimension."
   ]
  },
  {
   "cell_type": "markdown",
   "id": "60c0acbe-8362-412f-ac51-4872a60a63b1",
   "metadata": {},
   "source": [
    "> When Python programmers want to define how operators behave on their types, they do so by implementing methods with special names beginning and ending with 2 underscores such as __lt__, __setattr__, or __contains__. Generally, names that follow this double-underscore format have a special meaning to Python.\n",
    "\n",
    "So, for example, the expression x in [1, 2, 3] is actually calling the list method __contains__ behind-the-scenes. It's equivalent to (the much uglier) [1, 2, 3].__contains__(x)."
   ]
  },
  {
   "cell_type": "code",
   "execution_count": null,
   "id": "5bdd9310-617a-4761-b8c6-afdbefac1550",
   "metadata": {},
   "outputs": [],
   "source": []
  }
 ],
 "metadata": {
  "kernelspec": {
   "display_name": "Python 3 (ipykernel)",
   "language": "python",
   "name": "python3"
  },
  "language_info": {
   "codemirror_mode": {
    "name": "ipython",
    "version": 3
   },
   "file_extension": ".py",
   "mimetype": "text/x-python",
   "name": "python",
   "nbconvert_exporter": "python",
   "pygments_lexer": "ipython3",
   "version": "3.11.0"
  }
 },
 "nbformat": 4,
 "nbformat_minor": 5
}
