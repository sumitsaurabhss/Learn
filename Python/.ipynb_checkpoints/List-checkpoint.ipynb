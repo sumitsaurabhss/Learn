{
 "cells": [
  {
   "cell_type": "markdown",
   "id": "f4556c95-6511-478d-93b2-f04523c6a9a2",
   "metadata": {},
   "source": [
    "## List Functions"
   ]
  },
  {
   "cell_type": "markdown",
   "id": "4dc7c65a-d7c4-4ada-861a-8e35aa37644c",
   "metadata": {},
   "source": [
    "`len`  gives the length of a list  \n",
    "`sorted` returns a sorted version of a list  \n",
    "`sum`  \n",
    "`min`  \n",
    "`max`  "
   ]
  },
  {
   "cell_type": "markdown",
   "id": "d8114d75-cf49-4390-8b6b-a9cf5dfebf1c",
   "metadata": {},
   "source": [
    "## List Methods"
   ]
  },
  {
   "cell_type": "markdown",
   "id": "344cf9c0-b1c2-4ab2-af98-85b29714cf75",
   "metadata": {},
   "source": [
    "`list.append` modifies a list by adding an item to the end  \n",
    "`list.pop` removes and returns the last element of a list  \n",
    "`list.index` returns index of the given element  \n"
   ]
  },
  {
   "cell_type": "markdown",
   "id": "f671d42e-582d-43e6-8ddd-250c91d60c3c",
   "metadata": {},
   "source": [
    "> `in` operator allows to check whether an item is in the list. Checking it before trying to get the index is a best practice."
   ]
  },
  {
   "cell_type": "markdown",
   "id": "a1ef7d4a-048d-40e1-82da-18a9427eb073",
   "metadata": {},
   "source": [
    "## List Comprehension"
   ]
  },
  {
   "cell_type": "code",
   "execution_count": null,
   "id": "5f0ac371-b794-465b-a5ac-09784c3ddb77",
   "metadata": {},
   "outputs": [],
   "source": [
    "len([num for num in nums if num < 0])"
   ]
  },
  {
   "cell_type": "code",
   "execution_count": null,
   "id": "7a26cbae-7549-4bdd-9442-ff127b513e3a",
   "metadata": {},
   "outputs": [],
   "source": []
  },
  {
   "cell_type": "code",
   "execution_count": null,
   "id": "d088e1ac-c624-4788-87f0-cdf9e818b1c6",
   "metadata": {},
   "outputs": [],
   "source": []
  },
  {
   "cell_type": "code",
   "execution_count": null,
   "id": "e202e0cb-0500-43c8-9552-807bf494c117",
   "metadata": {},
   "outputs": [],
   "source": []
  },
  {
   "cell_type": "code",
   "execution_count": null,
   "id": "bbf13399-9305-4f5a-a3b1-081bbebf1004",
   "metadata": {},
   "outputs": [],
   "source": []
  },
  {
   "cell_type": "code",
   "execution_count": null,
   "id": "4e5cf985-cc96-4f23-a393-d45e362ee089",
   "metadata": {},
   "outputs": [],
   "source": []
  }
 ],
 "metadata": {
  "kernelspec": {
   "display_name": "Python 3 (ipykernel)",
   "language": "python",
   "name": "python3"
  },
  "language_info": {
   "codemirror_mode": {
    "name": "ipython",
    "version": 3
   },
   "file_extension": ".py",
   "mimetype": "text/x-python",
   "name": "python",
   "nbconvert_exporter": "python",
   "pygments_lexer": "ipython3",
   "version": "3.11.0"
  }
 },
 "nbformat": 4,
 "nbformat_minor": 5
}
