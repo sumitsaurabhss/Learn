{
 "cells": [
  {
   "cell_type": "markdown",
   "id": "8cc29fb5-9fb4-44f2-8733-6278a2c2b277",
   "metadata": {},
   "source": [
    "Labeled Dataset: This is a collection of data where each piece of information comes with a correct answer or label. It's like a quiz with the questions and answers already provided.\n",
    "\n",
    "Gradient Descent: This method helps find the best settings for a neural network by slowly tweaking them to reduce errors, similar to finding the lowest point in a valley.\n",
    "\n",
    "Cost Function: Imagine it as a score that tells you how wrong your network's predictions are. The goal is to make this score as low as possible.\n",
    "\n",
    "Learning Rate: This hyperparameter specifies how big the steps are when adjusting the neural network's settings during training. Too big, and you might skip over the best setting; too small, and it'll take a very long time to get there.\n",
    "\n",
    "Backpropagation: Short for backward propagation of errors. This is like a feedback system that tells each part of the neural network how much it contributed to any mistakes, so it can learn and do better next time."
   ]
  },
  {
   "cell_type": "markdown",
   "id": "d330e57e-259d-46e5-aec7-5b5a1d7fdd0b",
   "metadata": {},
   "source": [
    "Loss functions: help in improving the accuracy of a model by measuring errors. They quantify the discrepancy between the predicted output and the actual target values. These functions come in different forms to tackle various problems, like deciding between categories (classification) or predicting values (regression).\n",
    "\n",
    "Cross entropy loss: suited for classification task. It's particularly useful when the classes are mutually exclusive.\n",
    "\n",
    "Mean squared error: This shows the average of the squares of the differences between predicted and target values. It's often used for predicting continuous values rather than categories."
   ]
  },
  {
   "cell_type": "code",
   "execution_count": null,
   "id": "06a15ca7-76d3-4a41-b22d-37b5151c92fd",
   "metadata": {},
   "outputs": [],
   "source": []
  }
 ],
 "metadata": {
  "kernelspec": {
   "display_name": "Python 3 (ipykernel)",
   "language": "python",
   "name": "python3"
  },
  "language_info": {
   "codemirror_mode": {
    "name": "ipython",
    "version": 3
   },
   "file_extension": ".py",
   "mimetype": "text/x-python",
   "name": "python",
   "nbconvert_exporter": "python",
   "pygments_lexer": "ipython3",
   "version": "3.11.0"
  }
 },
 "nbformat": 4,
 "nbformat_minor": 5
}
