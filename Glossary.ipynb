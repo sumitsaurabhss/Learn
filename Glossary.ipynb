{
 "cells": [
  {
   "cell_type": "markdown",
   "id": "a20c4719-f909-4994-b497-683b064d45cd",
   "metadata": {},
   "source": [
    "Gradient Descent: This method helps find the best settings for a neural network by slowly tweaking them to reduce errors, similar to finding the lowest point in a valley.  \n",
    "\n",
    "Cost Function: Imagine it as a score that tells you how wrong your network's predictions are. The goal is to make this score as low as possible.  \n",
    "\n",
    "Learning Rate: This hyperparameter specifies how big the steps are when adjusting the neural network's settings during training. Too big, and you might skip over the best setting; too small, and it'll take a very long time to get there.  \n",
    "\n",
    "Backpropagation: Short for backward propagation of errors. This is like a feedback system that tells each part of the neural network how much it contributed to any mistakes, so it can learn and do better next time.\n",
    "\n",
    "Loss functions: help in improving the accuracy of a model by measuring errors. They quantify the discrepancy between the predicted output and the actual target values. These functions come in different forms to tackle various problems, like deciding between categories (classification) or predicting values (regression).\n",
    "\n",
    "Cross entropy loss: suited for classification task. It's particularly useful when the classes are mutually exclusive.\n",
    "\n",
    "Mean squared error: This shows the average of the squares of the differences between predicted and target values. It's often used for predicting continuous values rather than categories.\n",
    "\n",
    "Global feature importance: Quantifies relative importance of each feature in the test dataset\n",
    "Local feature importance: measures the importance of each feature value for a specific individual prediction.\n"
   ]
  },
  {
   "cell_type": "markdown",
   "id": "043d1c4c-d3b5-47f6-b094-c9e989835ee0",
   "metadata": {},
   "source": [
    "k-fold cross validation:\n",
    "\n",
    "Monte Carlo cross validation:"
   ]
  },
  {
   "cell_type": "markdown",
   "id": "a33b2c52-cb44-4fc9-9680-71909ee5bbe6",
   "metadata": {},
   "source": [
    "Sequential data: Information that is arranged in a specific order, such as words in a sentence or events in time."
   ]
  },
  {
   "cell_type": "markdown",
   "id": "4ee4d6fa-9952-436c-a753-7b886518f974",
   "metadata": {},
   "source": [
    "Robustness: The strength of an AI model to maintain its performance despite challenges or changes in data.\n",
    "\n",
    "Open Access: Making data sets freely available to the public, so that anyone can use them for research and develop AI technologies.\n",
    "\n"
   ]
  }
 ],
 "metadata": {
  "kernelspec": {
   "display_name": "Python 3 (ipykernel)",
   "language": "python",
   "name": "python3"
  },
  "language_info": {
   "codemirror_mode": {
    "name": "ipython",
    "version": 3
   },
   "file_extension": ".py",
   "mimetype": "text/x-python",
   "name": "python",
   "nbconvert_exporter": "python",
   "pygments_lexer": "ipython3",
   "version": "3.11.0"
  }
 },
 "nbformat": 4,
 "nbformat_minor": 5
}
