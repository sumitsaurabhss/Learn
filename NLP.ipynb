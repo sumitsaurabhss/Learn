{
 "cells": [
  {
   "cell_type": "markdown",
   "id": "9b08add8-f80e-45a9-9019-a1740abad49d",
   "metadata": {},
   "source": [
    "# Natural Language Processing\n",
    "What is a Natural Language? <br/>\n",
    "Any language that has evolved naturally in humans through use and repetition without conscious planning or pre-meditation.\n",
    "\n",
    "What is a Natural Language Processing? <br/>\n",
    "A field of computer science, artificial intelligence and computational linguistics concerned with the interactions between computers and human (natural) languages."
   ]
  },
  {
   "cell_type": "markdown",
   "id": "f3078beb-0c39-4334-94f7-ff9922b72cf9",
   "metadata": {},
   "source": [
    "### Turing Test\n",
    "\n",
    "Setup\n",
    "- Two rooms, two humans, and a computer.\n",
    "  - Room 1: One human C\n",
    "  - Room 2: One computer (A) and one human (B)\n",
    "- Response generated from room 2 (either by A or B)\n",
    "- C has to figure out the source of the response\n",
    "  - If C is successful → “A” failed the Turing test\n",
    "  - Else, → “A” passed the Turing test\n",
    "\n",
    "\"Computing Machinery and Intelligence” proposed what is now called the Turing test ."
   ]
  },
  {
   "cell_type": "markdown",
   "id": "6b36c20f-c30c-4a2a-8e0b-e09efdc26db0",
   "metadata": {},
   "source": [
    "> In 1957, Noam Chomsky’s Syntactic Structures revolutionized Linguistics with 'universal grammar', a rule-based system of syntactic structures"
   ]
  },
  {
   "cell_type": "markdown",
   "id": "c1b255da-95b7-4852-af56-2113de4a6eb1",
   "metadata": {},
   "source": [
    "## Challenges in NLP\n",
    "Ambiguity\n"
   ]
  }
 ],
 "metadata": {
  "kernelspec": {
   "display_name": "Python 3 (ipykernel)",
   "language": "python",
   "name": "python3"
  },
  "language_info": {
   "codemirror_mode": {
    "name": "ipython",
    "version": 3
   },
   "file_extension": ".py",
   "mimetype": "text/x-python",
   "name": "python",
   "nbconvert_exporter": "python",
   "pygments_lexer": "ipython3",
   "version": "3.11.0"
  }
 },
 "nbformat": 4,
 "nbformat_minor": 5
}
