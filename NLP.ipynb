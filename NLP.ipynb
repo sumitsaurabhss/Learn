{
 "cells": [
  {
   "cell_type": "markdown",
   "id": "9b08add8-f80e-45a9-9019-a1740abad49d",
   "metadata": {},
   "source": [
    "# Natural Language Processing\n",
    "What is a Natural Language? <br/>\n",
    "Any language that has evolved naturally in humans through use and repetition without conscious planning or pre-meditation.\n",
    "\n",
    "What is a Natural Language Processing? <br/>\n",
    "A field of computer science, artificial intelligence and computational linguistics concerned with the interactions between computers and human (natural) languages."
   ]
  },
  {
   "cell_type": "code",
   "execution_count": null,
   "id": "62392d83-df3a-492c-8ba5-97a30e806b58",
   "metadata": {},
   "outputs": [],
   "source": []
  }
 ],
 "metadata": {
  "kernelspec": {
   "display_name": "Python 3 (ipykernel)",
   "language": "python",
   "name": "python3"
  },
  "language_info": {
   "codemirror_mode": {
    "name": "ipython",
    "version": 3
   },
   "file_extension": ".py",
   "mimetype": "text/x-python",
   "name": "python",
   "nbconvert_exporter": "python",
   "pygments_lexer": "ipython3",
   "version": "3.11.0"
  }
 },
 "nbformat": 4,
 "nbformat_minor": 5
}
