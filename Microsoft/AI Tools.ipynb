{
 "cells": [
  {
   "cell_type": "markdown",
   "id": "6dacda98",
   "metadata": {},
   "source": [
    "# AI Tools"
   ]
  },
  {
   "cell_type": "markdown",
   "id": "74a9a8fc",
   "metadata": {},
   "source": [
    "## Azure AI services\n",
    "The Azure AI services are a set of cloud-based services that enable developers to build AI-powered applications without requiring expertise in machine learning. These services cover a wide range of AI capabilities, including speech recognition, natural language processing, computer vision, and decision-making.\n",
    "\n",
    "Azure Cognitive Services is a subset of Azure AI services that provide prebuilt AI models for common tasks such as text analysis, image recognition, and language translation. These models can be integrated into applications using REST APIs or SDKs.\n",
    "\n",
    "The Azure AI services are best suited for projects that require AI capabilities but lack the resources or expertise to build custom models from scratch."
   ]
  },
  {
   "cell_type": "markdown",
   "id": "a5532904",
   "metadata": {},
   "source": [
    "## Azure AI Foundry portal\n",
    "Azure AI Foundry portal is a web-based platform that allows developers to build, train, and deploy machine learning models using a visual interface. It provides a range of tools and templates to help developers create AI models without needing to write code. Azure AI Foundry portal supports popular machine learning frameworks like TensorFlow and PyTorch.\n",
    "\n",
    "Azure AI Foundry portal also includes features for data preparation, model training, and model evaluation. Developers can use drag-and-drop tools to create data pipelines, experiment with different algorithms, and monitor model performance. Once a model is trained, it can be deployed as a web service or integrated into an existing application.\n",
    "\n",
    "Azure AI Foundry portal is ideal for developers who want to experiment with machine learning models without needing to write code or manage infrastructure. It provides a user-friendly interface for building and deploying AI models, making it accessible to a wide range of developers."
   ]
  },
  {
   "cell_type": "markdown",
   "id": "94cb3551",
   "metadata": {},
   "source": [
    "## AI Builder\n",
    "AI Builder is a feature of Microsoft Power Platform that allows users to add AI capabilities to their applications without needing deep data science expertise.\n",
    "\n",
    "AI Builder provides the following features:\n",
    "\n",
    "- **Prebuilt AI Models**: Includes models for common tasks like prediction, form processing, object detection, and text classification.\n",
    "- **Custom Models**: Allows you to build custom models tailored to your specific business needs using your data.\n",
    "- **Easy Integration**: Seamlessly integrates AI capabilities into apps built with Power Apps, enhancing user experience and efficiency.\n",
    "\n",
    "AI Builder is best suited for users who want to add AI capabilities to their applications without needing to write code or have deep data science expertise. It provides a user-friendly interface for creating and deploying AI models, making it accessible to a wide range of users. Business analysts, developers, and citizen developers can leverage AI Builder to enhance their applications with AI capabilities."
   ]
  },
  {
   "cell_type": "markdown",
   "id": "abb15c15",
   "metadata": {},
   "source": [
    "## Copilot Studio\n",
    "Copilot Studio is a copilot authoring tool that enables user to create and manage AI-powered chatbots. It provides a visual interface for designing conversational flows, training chatbots, and monitoring their performance. Copilot Studio supports natural language understanding (NLU) and natural language generation (NLG) capabilities, allowing users to build chatbots that can understand and respond to user queries.\n",
    "\n",
    "> A copilot is an AI-powered conversational interface based on large language models (LLMs) and additional sources of knowledge. It's a powerful AI companion that can handle a range of requests, from providing simple responses to common questions to resolving issues requiring complex conversations. Copilots can engage with customers and employees in multiple languages across websites, mobile apps, Facebook, Microsoft Teams, or any channel supported by the Azure Bot Service.\n",
    "\n",
    "Copilot Studio is available as a standalone web app, and as a discrete app within Teams. Most of the functionality between the two is the same. However, there might be different reasons to choose one version or the other based on the ways you want to use Copilot Studio."
   ]
  },
  {
   "cell_type": "markdown",
   "id": "a8bf1560",
   "metadata": {},
   "source": [
    "## Semantic Kernel SDK\n",
    "The Semantic Kernel SDK enables developers to implement AI model interactions within their existing code project.\n",
    "It provides the framework needed to create fully automated AI agents that can automate business processes.\n",
    "\n",
    "Semantic Kernel is an open-source SDK that lets you easily build agents that can interact with AI models and use responses to enhance your existing code. As a highly extensible SDK, you can use Semantic Kernel with models from OpenAI, Azure OpenAI, Hugging Face, and others. By combining your existing C#, Python, and Java code with these models, you can build agents that extend your applications in ways that were previously impossible."
   ]
  },
  {
   "cell_type": "markdown",
   "id": "e7fcbbd3",
   "metadata": {},
   "source": [
    "## Visual Studio IntelliCode\n",
    "Visual Studio IntelliCode is an extension for Visual Studio that enhances the coding experience by providing AI-powered recommendations. IntelliCode uses machine learning models trained on thousands of open-source projects to suggest context-appropriate code completions. It supports multiple programming languages and helps developers write more reliable and maintainable code.\n",
    "\n",
    "Visual Studio IntelliCode features:\n",
    "- AI-Powered Code Completions\n",
    "- Refactoring Assistance\n",
    "- Code Style Inference:"
   ]
  },
  {
   "cell_type": "markdown",
   "id": "dd19c591",
   "metadata": {},
   "source": [
    "## GitHub Copilot tools\n",
    "GitHub provides a suite of AI-assisted programming tools, including GitHub Copilot and Copilot Chat. GitHub Copilot, powered by OpenAI's Codex, is an AI pair programmer that helps you write code faster and with less effort. Copilot works alongside you directly in your code editor, seamlessly integrating AI into your workflow. It provides intelligent code suggestions and completions based on the context of your code, helping you write code more efficiently and accurately. GitHub Copilot Chat is a chat interface that lets you interact with GitHub Copilot, to ask and receive answers to coding-related questions within GitHub.com and supported IDEs.\n",
    "\n",
    "GitHub Copilot Chat's AI assistance features:\n",
    "- Chat Interface\n",
    "- Code Explanation\n",
    "- Documentation Generation\n",
    "- Test Case Generation\n",
    "- Code fixes"
   ]
  },
  {
   "cell_type": "markdown",
   "id": "8f2b566a",
   "metadata": {},
   "source": [
    "### GitHub Copilot integration with the developer environment\n",
    "GitHub Copilot natively integrates with Visual Studio Code, Visual Studio, and other developer environments.\n",
    "\n",
    "GitHub Copilot is implemented using two extensions for Visual Studio Code: GitHub Copilot and GitHub Copilot Chat.\n",
    "- The GitHub Copilot extension provides code completions and code generation from comments. Powerful tools that help developers write code faster and smarter.\n",
    "- The GitHub Copilot Chat extension provides the editor with an AI-enabled chat interface that’s focused on developer scenarios. It recognizes the entire project workspace, the code revisions being entered, error messages, and other aspects of the compiler/runtime environment. Developers can use Copilot Chat to get an in-depth analysis of their code, investigate new features, enhance or refactor existing features, generate unit tests, and even receive proposed fixes for bugs.\n",
    "- GitHub Copilot for Azure extension integrates seamlessly with Azure services, providing AI-powered coding assistance for developers working on cloud-based projects. This integration helps developers understand Azure features, deploy resources, retrieve information about resources, and diagnose and troubleshoot issues."
   ]
  },
  {
   "cell_type": "markdown",
   "id": "7db5e3eb",
   "metadata": {},
   "source": []
  }
 ],
 "metadata": {
  "language_info": {
   "name": "python"
  }
 },
 "nbformat": 4,
 "nbformat_minor": 5
}
