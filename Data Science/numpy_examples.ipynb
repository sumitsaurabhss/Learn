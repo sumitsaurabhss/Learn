{
 "cells": [
  {
   "cell_type": "code",
   "execution_count": 1,
   "id": "dc2736ef-e683-4824-bf3a-3896e295468f",
   "metadata": {},
   "outputs": [],
   "source": [
    "import numpy as np\n",
    "from numpy.random import default_rng"
   ]
  },
  {
   "cell_type": "markdown",
   "id": "50b1c35a-3b4e-4340-b749-e9f2e7168a7e",
   "metadata": {},
   "source": [
    "set seed to get same values every time."
   ]
  },
  {
   "cell_type": "code",
   "execution_count": 3,
   "id": "a9d2cb04-6e88-495e-9495-d75afe956065",
   "metadata": {},
   "outputs": [],
   "source": [
    "rg = default_rng(12345)"
   ]
  },
  {
   "cell_type": "code",
   "execution_count": 4,
   "id": "f8d5a03f-31e9-4732-9d2d-9f575ec61fae",
   "metadata": {},
   "outputs": [
    {
     "data": {
      "text/plain": [
       "array([3, 1, 4, 2, 1, 4, 3, 3, 4, 2, 4, 2, 3, 3, 1, 1, 1, 3, 3, 4, 3, 1,\n",
       "       4, 4, 3, 3, 1, 1, 2, 2, 1, 4, 2, 3, 1, 2, 1, 3, 4, 1, 3, 1, 2, 1,\n",
       "       3, 2, 2, 2, 2, 2, 3, 4, 2, 1, 1, 1, 1, 1, 1, 3, 4, 4, 3, 3, 2, 4,\n",
       "       3, 3, 3, 4, 3, 4, 3, 3, 2, 4, 3, 2, 2, 2, 3, 2, 3, 3, 4, 2, 3, 4,\n",
       "       2, 2, 2, 2, 3, 2, 4, 2, 1, 1, 1, 3])"
      ]
     },
     "execution_count": 4,
     "metadata": {},
     "output_type": "execute_result"
    }
   ],
   "source": [
    "random_integers = rg.integers(low=1, high=5, size=100)\n",
    "random_integers"
   ]
  },
  {
   "cell_type": "code",
   "execution_count": null,
   "id": "70fe3361-90d5-4972-87b4-ecf0450e1ce4",
   "metadata": {},
   "outputs": [],
   "source": []
  }
 ],
 "metadata": {
  "kernelspec": {
   "display_name": "Python (DS)",
   "language": "python",
   "name": ".env"
  },
  "language_info": {
   "codemirror_mode": {
    "name": "ipython",
    "version": 3
   },
   "file_extension": ".py",
   "mimetype": "text/x-python",
   "name": "python",
   "nbconvert_exporter": "python",
   "pygments_lexer": "ipython3",
   "version": "3.11.0"
  }
 },
 "nbformat": 4,
 "nbformat_minor": 5
}
