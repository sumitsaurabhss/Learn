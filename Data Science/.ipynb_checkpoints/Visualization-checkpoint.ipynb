{
 "cells": [
  {
   "cell_type": "code",
   "execution_count": null,
   "id": "bedc9849-ca1f-4bfb-b6b6-e42a2098859f",
   "metadata": {},
   "outputs": [],
   "source": [
    "import pandas as pd\n",
    "pd.plotting.register_matplotlib_converters()\n",
    "import matplotlib.pyplot as plt\n",
    "%matplotlib inline\n",
    "import seaborn as sns"
   ]
  },
  {
   "cell_type": "code",
   "execution_count": null,
   "id": "e763718c-d866-4949-8adb-5517fc3e5e8f",
   "metadata": {},
   "outputs": [],
   "source": [
    "# Path of the file to read\n",
    "fifa_filepath = \"../input/fifa.csv\"\n",
    "\n",
    "# Read the file into a variable fifa_data. \n",
    "fifa_data = pd.read_csv(fifa_filepath, index_col=\"Date\", parse_dates=True)"
   ]
  },
  {
   "cell_type": "markdown",
   "id": "a7431baa-096d-469d-88d2-79dbdf316ff2",
   "metadata": {},
   "source": [
    "`parse_dates=True` - This tells the notebook to understand the each row label as a date (as opposed to a number or other text with a different meaning)."
   ]
  },
  {
   "cell_type": "markdown",
   "id": "c072c2f4-43bf-41f8-9f4e-7bc6c6cc2949",
   "metadata": {},
   "source": [
    "## Line Charts\n"
   ]
  }
 ],
 "metadata": {
  "kernelspec": {
   "display_name": "Python (DS)",
   "language": "python",
   "name": ".env"
  },
  "language_info": {
   "codemirror_mode": {
    "name": "ipython",
    "version": 3
   },
   "file_extension": ".py",
   "mimetype": "text/x-python",
   "name": "python",
   "nbconvert_exporter": "python",
   "pygments_lexer": "ipython3",
   "version": "3.11.0"
  }
 },
 "nbformat": 4,
 "nbformat_minor": 5
}
