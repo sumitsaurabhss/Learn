{
 "cells": [
  {
   "cell_type": "markdown",
   "id": "4086fbe8-4db9-4745-90ed-0210ab7b8f8e",
   "metadata": {},
   "source": [
    "# Numpy\n",
    "Numpy is a general-purpose array-processing package. It provides a high-performance multidimensional array object, and tools for working with these arrays. It is the fundamental package for scientific computing with Python.\n",
    "\n",
    "Besides its obvious scientific uses, Numpy can also be used as an efficient multi-dimensional container of generic data."
   ]
  },
  {
   "cell_type": "code",
   "execution_count": 1,
   "id": "76f03d8f-ef57-4582-9fdb-fb3a8883d1c9",
   "metadata": {},
   "outputs": [],
   "source": [
    "import numpy as np"
   ]
  },
  {
   "cell_type": "markdown",
   "id": "86b4f77d-5c73-4d79-a82f-74561ae20ba6",
   "metadata": {},
   "source": [
    "## Arrays in Numpy\n",
    "Array in Numpy is a table of elements (usually numbers), all of the same type, indexed by a tuple of positive integers.  \n",
    "- rank: number of dimensions of the array\n",
    "- shape: A tuple of integers giving the size of the array along each dimension\n",
    "- ndarray: An array class in Numpy.\n",
    "- Elements in Numpy arrays are accessed by using square brackets and can be initialized by using nested Python Lists."
   ]
  },
  {
   "cell_type": "markdown",
   "id": "84b9e9a1-0ec8-460e-a219-bad5d9fb66cb",
   "metadata": {},
   "source": [
    "### Creating a Numpy Array\n",
    "Arrays in Numpy can be created by multiple ways, with various number of Ranks, defining the size of the Array. Arrays can also be created with the use of various data types such as lists, tuples, etc. The type of the resultant array is deduced from the type of the elements in the sequences.\n",
    "Note: Type of array can be explicitly defined while creating the array."
   ]
  },
  {
   "cell_type": "code",
   "execution_count": 2,
   "id": "dd644a37-eff2-4e00-ae66-960c8be594f9",
   "metadata": {},
   "outputs": [
    {
     "name": "stdout",
     "output_type": "stream",
     "text": [
      "Array with Rank 1: \n",
      " [1 2 3]\n",
      "Array with Rank 2: \n",
      " [[1 2 3]\n",
      " [4 5 6]]\n",
      "\n",
      "Array created using passed tuple:\n",
      " [1 3 2]\n"
     ]
    }
   ],
   "source": [
    "# Creating a rank 1 Array\n",
    "arr = np.array([1, 2, 3])\n",
    "print(\"Array with Rank 1: \\n\",arr)\n",
    " \n",
    "# Creating a rank 2 Array\n",
    "arr = np.array([[1, 2, 3],\n",
    "                [4, 5, 6]])\n",
    "print(\"Array with Rank 2: \\n\", arr)\n",
    " \n",
    "# Creating an array from tuple\n",
    "arr = np.array((1, 3, 2))\n",
    "print(\"\\nArray created using \"\n",
    "      \"passed tuple:\\n\", arr)"
   ]
  },
  {
   "cell_type": "markdown",
   "id": "4ee19d36-cc05-450a-88b4-5468eb4bff1a",
   "metadata": {},
   "source": [
    "### Accessing the array Index\n",
    "In a numpy array, indexing or accessing the array index can be done in multiple ways. \n",
    "- To print a range of an array, slicing is done.\n",
    "- Slicing of an array is defining a range in a new array which is used to print a range of elements from the original array.\n",
    "- Since, sliced array holds a range of elements of the original array, modifying content with the help of sliced array modifies the original array content."
   ]
  },
  {
   "cell_type": "markdown",
   "id": "ada253b2-348f-4aad-bbf6-abfdfbab1885",
   "metadata": {},
   "source": [
    "### Basic Array Operations\n",
    "In numpy, arrays allow a wide range of operations which can be performed on a particular array or a combination of Arrays. These operation include some basic Mathematical operation as well as Unary and Binary operations."
   ]
  },
  {
   "cell_type": "code",
   "execution_count": 3,
   "id": "3455a52a-1187-448e-b5e3-63d84e0e440c",
   "metadata": {},
   "outputs": [
    {
     "name": "stdout",
     "output_type": "stream",
     "text": [
      "Adding 1 to every element: [[2 3]\n",
      " [4 5]]\n",
      "\n",
      "Subtracting 2 from each element: [[ 2  1]\n",
      " [ 0 -1]]\n",
      "\n",
      "Sum of all array elements:  10\n",
      "\n",
      "Array sum:\n",
      " [[5 5]\n",
      " [5 5]]\n"
     ]
    }
   ],
   "source": [
    "# Defining Array 1\n",
    "a = np.array([[1, 2],\n",
    "              [3, 4]])\n",
    " \n",
    "# Defining Array 2\n",
    "b = np.array([[4, 3],\n",
    "              [2, 1]])\n",
    "               \n",
    "# Adding 1 to every element\n",
    "print (\"Adding 1 to every element:\", a + 1)\n",
    " \n",
    "# Subtracting 2 from each element\n",
    "print (\"\\nSubtracting 2 from each element:\", b - 2)\n",
    " \n",
    "# sum of array elements\n",
    "# Performing Unary operations\n",
    "print (\"\\nSum of all array \"\n",
    "       \"elements: \", a.sum())\n",
    " \n",
    "# Adding two arrays\n",
    "# Performing Binary operations\n",
    "print (\"\\nArray sum:\\n\", a + b)"
   ]
  },
  {
   "cell_type": "markdown",
   "id": "bf75ee19-cad5-4ae5-bb80-f242e6eadf66",
   "metadata": {},
   "source": [
    "## Data Types in Numpy\n",
    "Every ndarray has an associated data type (dtype) object. This data type object (dtype) provides information about the layout of the array. The values of an ndarray are stored in a buffer which can be thought of as a contiguous block of memory bytes which can be interpreted by the dtype object.  \n",
    "Numpy provides a large set of numeric datatypes that can be used to construct arrays. At the time of Array creation, Numpy tries to guess a datatype, but functions that construct arrays usually also include an optional argument to explicitly specify the datatype."
   ]
  },
  {
   "cell_type": "markdown",
   "id": "712191d2-57ed-4746-94af-41f4e2cac93a",
   "metadata": {},
   "source": [
    "### Constructing a Datatype Object\n",
    "In Numpy, datatypes of Arrays need not to be defined unless a specific datatype is required. Numpy tries to guess the datatype for Arrays which are not predefined in the constructor function."
   ]
  },
  {
   "cell_type": "code",
   "execution_count": 4,
   "id": "e172db8e-74ab-4702-9030-d4c1391c2912",
   "metadata": {},
   "outputs": [
    {
     "name": "stdout",
     "output_type": "stream",
     "text": [
      "Integer Datatype: \n",
      "int64\n",
      "\n",
      "Float Datatype: \n",
      "float64\n",
      "\n",
      "Forcing a Datatype: \n",
      "int64\n"
     ]
    }
   ],
   "source": [
    "# Integer datatype\n",
    "# guessed by Numpy\n",
    "x = np.array([1, 2])  \n",
    "print(\"Integer Datatype: \")\n",
    "print(x.dtype)         \n",
    " \n",
    "# Float datatype\n",
    "# guessed by Numpy\n",
    "x = np.array([1.0, 2.0]) \n",
    "print(\"\\nFloat Datatype: \")\n",
    "print(x.dtype)  \n",
    " \n",
    "# Forced Datatype\n",
    "x = np.array([1, 2], dtype = np.int64)   \n",
    "print(\"\\nForcing a Datatype: \")\n",
    "print(x.dtype)"
   ]
  },
  {
   "cell_type": "markdown",
   "id": "7dcfdc13-9ab6-456f-bfa3-00f61f365a1e",
   "metadata": {},
   "source": [
    "### Math Operations on DataType array\n",
    "In Numpy arrays, basic mathematical operations are performed element-wise on the array. These operations are applied both as operator overloads and as functions. Many useful functions are provided in Numpy for performing computations on Arrays.\n",
    "- sum: for addition of Array elements\n",
    "- T: for Transpose of elements"
   ]
  },
  {
   "cell_type": "markdown",
   "id": "3fe8d933-1518-48d6-acd2-37e2467f2f9e",
   "metadata": {},
   "source": [
    "- Element-wise Operations: We can perform arithmetic operations like addition, subtraction, multiplication, and division directly on NumPy arrays. It allow you to perform mathematical operations on each element of an array individually, without the need for explicit loops.\n",
    "- Unary Operation: These operations are applied to each individual element in the array, without the need for multiple arrays (as in binary operations).\n",
    "- Binary Operators: Numpy Binary Operations apply to the array elementwise and a new array is created. We can use all basic arithmetic operators like +, -, /,  etc. In the case of +=, -=, = operators, the existing array is modified."
   ]
  },
  {
   "cell_type": "code",
   "execution_count": 5,
   "id": "cf7eee63-9869-45aa-9730-5adafc7af18e",
   "metadata": {},
   "outputs": [
    {
     "name": "stdout",
     "output_type": "stream",
     "text": [
      "Addition of Two Arrays: \n",
      "[[ 7. 13.]\n",
      " [ 4. 14.]]\n",
      "\n",
      "Addition of Array elements: \n",
      "19.0\n",
      "\n",
      "Square root of Array1 elements: \n",
      "[[2.         2.64575131]\n",
      " [1.41421356 2.44948974]]\n",
      "\n",
      "Transpose of Array: \n",
      "[[4. 2.]\n",
      " [7. 6.]]\n"
     ]
    }
   ],
   "source": [
    "# First Array\n",
    "arr1 = np.array([[4, 7], [2, 6]], \n",
    "                 dtype = np.float64)\n",
    "                  \n",
    "# Second Array\n",
    "arr2 = np.array([[3, 6], [2, 8]], \n",
    "                 dtype = np.float64) \n",
    " \n",
    "# Addition of two Arrays - Binary Operation\n",
    "Sum = np.add(arr1, arr2)\n",
    "print(\"Addition of Two Arrays: \")\n",
    "print(Sum)\n",
    " \n",
    "# Addition of all Array elements\n",
    "# using predefined sum method\n",
    "Sum1 = np.sum(arr1)\n",
    "print(\"\\nAddition of Array elements: \")\n",
    "print(Sum1)\n",
    " \n",
    "# Square root of Array\n",
    "Sqrt = np.sqrt(arr1)\n",
    "print(\"\\nSquare root of Array1 elements: \")\n",
    "print(Sqrt)\n",
    " \n",
    "# Transpose of Array\n",
    "# using In-built function 'T'\n",
    "Trans_arr = arr1.T\n",
    "print(\"\\nTranspose of Array: \")\n",
    "print(Trans_arr)\n",
    "\n",
    "x = np.array([1, 2, 3])\n",
    "y = np.array([4, 5, 6])\n",
    "\n",
    "\n",
    "# Element-wise operation\n",
    "# Addition - similarly, Subtraction, Multiplication, Division\n",
    "add = x + y  \n",
    "print(\"Addition:\",add)\n",
    "\n",
    "# Example array with both positive and negative values\n",
    "arr = np.array([-3, -1, 0, 1, 3])\n",
    "\n",
    "# Applying a unary operation: absolute value\n",
    "result = np.absolute(arr)\n",
    "print(\"Absolute value:\", result)"
   ]
  },
  {
   "cell_type": "markdown",
   "id": "76c63087-8fae-4a7b-8467-19c9b0707f6e",
   "metadata": {},
   "source": [
    "### NumPy ufuncs\n",
    "NumPy provides familiar mathematical functions such as sin, cos, exp, etc. These functions also operate elementwise on an array, producing an array as output."
   ]
  },
  {
   "cell_type": "code",
   "execution_count": null,
   "id": "122ed940-8f2f-4234-b15a-4a6466178ed4",
   "metadata": {},
   "outputs": [],
   "source": [
    "# create an array of sine values\n",
    "a = np.array([0, np.pi/2, np.pi])\n",
    "print (\"Sine values of array elements:\", np.sin(a))\n",
    "\n",
    "# exponential values\n",
    "a = np.array([0, 1, 2, 3])\n",
    "print (\"Exponent of array elements:\", np.exp(a))\n",
    "\n",
    "# square root of array values\n",
    "print (\"Square root of array elements:\", np.sqrt(a))"
   ]
  },
  {
   "cell_type": "markdown",
   "id": "28b1c37d-f07d-4a00-b3eb-93ab1e6e5ae2",
   "metadata": {},
   "source": [
    "### NumPy Sorting Arrays\n",
    "We can use a simple np.sort() method for sorting Python NumPy arrays."
   ]
  },
  {
   "cell_type": "code",
   "execution_count": null,
   "id": "b8f3201c-f84f-4ec7-b1c6-858c6281d468",
   "metadata": {},
   "outputs": [],
   "source": [
    "# set alias names for dtypes\n",
    "dtypes = [('name', 'S10'), ('grad_year', int), ('cgpa', float)]\n",
    "\n",
    "# Values to be put in array\n",
    "values = [('Hrithik', 2009, 8.5), ('Ajay', 2008, 8.7), \n",
    "           ('Pankaj', 2008, 7.9), ('Aakash', 2009, 9.0)]\n",
    "           \n",
    "# Creating array\n",
    "arr = np.array(values, dtype = dtypes)\n",
    "print (\"\\nArray sorted by names:\\n\",\n",
    "            np.sort(arr, order = 'name'))\n",
    "            \n",
    "print (\"Array sorted by graduation year and then cgpa:\\n\",\n",
    "                np.sort(arr, order = ['grad_year', 'cgpa']))"
   ]
  },
  {
   "cell_type": "markdown",
   "id": "9078dc8a-1cc5-4663-ac1a-52a06e7007a6",
   "metadata": {},
   "source": [
    "## NumPy Commands?\n",
    "NumPy commands refer to the functions and methods available in the NumPy library that operate on arrays. Here are a few commonly used NumPy commands:\n",
    "\n",
    "- `np.array()`: Create an array.\n",
    "- `np.arange()`: Return evenly spaced values within a given interval.\n",
    "- `np.zeros()`, `np.ones()`, `np.full()`: Create new arrays filled with zeros, ones, or a specified value, respectively.\n",
    "- `np.dot()`: Dot product of two arrays.\n",
    "- `np.reshape()`: Gives a new shape to an array without changing its data.\n",
    "- `np.mean()`, np.median(), np.std(): Compute the mean, median, and standard deviation of array elements.\n",
    "- `np.linalg.inv()`: Compute the (multiplicative) inverse of a matrix.\n",
    "  \n",
    "These commands and many others make NumPy a versatile tool for numerical computing in Python\n",
    "\n"
   ]
  },
  {
   "cell_type": "code",
   "execution_count": 6,
   "id": "180bcd44-9996-444e-a255-8e36a77f3d30",
   "metadata": {},
   "outputs": [
    {
     "name": "stdout",
     "output_type": "stream",
     "text": [
      "[[0. 0. 0.]\n",
      " [0. 0. 0.]\n",
      " [0. 0. 0.]]\n",
      "[[1. 1.]\n",
      " [1. 1.]]\n",
      "[0 2 4 6 8]\n"
     ]
    }
   ],
   "source": [
    "a1_zeros = np.zeros((3, 3))\n",
    "a2_ones = np.ones((2, 2))\n",
    "a3_range = np.arange(0, 10, 2)\n",
    "\n",
    "print(a1_zeros)\n",
    "print(a2_ones)\n",
    "print(a3_range)"
   ]
  },
  {
   "cell_type": "markdown",
   "id": "29f72939-8488-4272-9b4f-7d6eaff646cf",
   "metadata": {},
   "source": [
    "## Indexing\n",
    "- Basic Indexing: Basic indexing in NumPy allows you to access elements of an array using indices.\n",
    "- Slicing: Just like lists in Python, NumPy arrays can be sliced. As arrays can be multidimensional, you need to specify a slice for each dimension of the array.\n",
    "- Advanced Indexing: Advanced Indexing in NumPy provides more powerful and flexible ways to access and manipulate array elements."
   ]
  },
  {
   "cell_type": "code",
   "execution_count": 7,
   "id": "5519ab89-5065-4879-b465-70f234a361b5",
   "metadata": {},
   "outputs": [
    {
     "name": "stdout",
     "output_type": "stream",
     "text": [
      "Integer array indexing: [20 40 60]\n",
      "\n",
      "Elements greater than 0:\n",
      " [ 10  20  30  40  50  60  70  80  90 100]\n"
     ]
    }
   ],
   "source": [
    "arr = np.array([10, 20, 30, 40, 50, 60, 70, 80, 90, 100])\n",
    "\n",
    "# Integer array indexing \n",
    "indices = np.array([1, 3, 5])\n",
    "print (\"Integer array indexing:\", arr[indices])\n",
    "\n",
    "# boolean array indexing \n",
    "cond = arr > 0\n",
    "print (\"\\nElements greater than 0:\\n\", arr[cond])\n"
   ]
  }
 ],
 "metadata": {
  "kernelspec": {
   "display_name": "Python (DS)",
   "language": "python",
   "name": ".env"
  },
  "language_info": {
   "codemirror_mode": {
    "name": "ipython",
    "version": 3
   },
   "file_extension": ".py",
   "mimetype": "text/x-python",
   "name": "python",
   "nbconvert_exporter": "python",
   "pygments_lexer": "ipython3",
   "version": "3.11.0"
  }
 },
 "nbformat": 4,
 "nbformat_minor": 5
}
